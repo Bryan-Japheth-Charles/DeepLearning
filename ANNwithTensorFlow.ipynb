{
 "cells": [
  {
   "cell_type": "code",
   "execution_count": 1,
   "id": "f523b5c2-bf83-4254-8a37-8c12b82c2577",
   "metadata": {},
   "outputs": [],
   "source": [
    "import tensorflow as tf"
   ]
  },
  {
   "cell_type": "code",
   "execution_count": 2,
   "id": "24359e1d-0014-4464-9933-d8848b4ab547",
   "metadata": {},
   "outputs": [
    {
     "name": "stdout",
     "output_type": "stream",
     "text": [
      "2.10.1\n"
     ]
    }
   ],
   "source": [
    "print(tf.__version__)"
   ]
  },
  {
   "cell_type": "markdown",
   "id": "d3ef830c-7da3-419c-9870-9f0022a92eb7",
   "metadata": {},
   "source": [
    "# creating a data to view and fit "
   ]
  },
  {
   "cell_type": "code",
   "execution_count": 155,
   "id": "1852fe2d-f7fc-4018-b25b-cab5ea9d392e",
   "metadata": {},
   "outputs": [],
   "source": [
    "import numpy as np\n",
    "import matplotlib.pyplot as plt"
   ]
  },
  {
   "cell_type": "code",
   "execution_count": 156,
   "id": "07f14c78-1846-49f8-8fce-738901eb592e",
   "metadata": {},
   "outputs": [
    {
     "data": {
      "image/png": "[encoded data removed]",
      "text/plain": [
       "<Figure size 500x400 with 1 Axes>"
      ]
     },
     "metadata": {},
     "output_type": "display_data"
    }
   ],
   "source": [
    "# creating the features\n",
    "x = np.array([-7.0, -4.0, -1.0, 2.0, 5.0, 8.0, 11.0, 14.0])\n",
    "\n",
    "# creating the labels\n",
    "y = np.array([3.0, 6.0, 9.0, 12.0, 15.0, 18.0, 21.0, 24.0])\n",
    "\n",
    "# visualize it \n",
    "plt.figure(figsize = (5, 4))\n",
    "plt.scatter(x, y)\n",
    "plt.show()"
   ]
  },
  {
   "cell_type": "code",
   "execution_count": 157,
   "id": "be832d62-97c8-407a-9a4d-40be139ae06c",
   "metadata": {},
   "outputs": [
    {
     "name": "stdout",
     "output_type": "stream",
     "text": [
      "y =  [ 3.  6.  9. 12. 15. 18. 21. 24.] \n",
      "x =  [-7. -4. -1.  2.  5.  8. 11. 14.] \n",
      "x+10=  [ 3.  6.  9. 12. 15. 18. 21. 24.] \n",
      "y == x+10  [ True  True  True  True  True  True  True  True]\n"
     ]
    }
   ],
   "source": [
    "# relation is \n",
    "print(\"y = \",y, \"\\nx = \", x, \"\\nx+10= \", x + 10, \"\\ny == x+10 \", y == x + 10)"
   ]
  },
  {
   "cell_type": "markdown",
   "id": "193f718b-200f-4cdf-aa74-0cf6ae72ee29",
   "metadata": {},
   "source": [
    "# creating a demo tensor for the housing price prediction problem "
   ]
  },
  {
   "cell_type": "code",
   "execution_count": 158,
   "id": "79b4e21e-fa35-4232-99a1-cbe64897c675",
   "metadata": {},
   "outputs": [
    {
     "data": {
      "text/plain": [
       "(<tf.Tensor: shape=(3,), dtype=string, numpy=array([b'bedroom', b'bathroom', b'garage'], dtype=object)>,\n",
       " <tf.Tensor: shape=(1,), dtype=int32, numpy=array([939700])>)"
      ]
     },
     "execution_count": 158,
     "metadata": {},
     "output_type": "execute_result"
    }
   ],
   "source": [
    "house_info = tf.constant(['bedroom', 'bathroom', 'garage'])\n",
    "house_price = tf.constant([939700])\n",
    "house_info, house_price"
   ]
  },
  {
   "cell_type": "code",
   "execution_count": 159,
   "id": "a6fd8492-f74f-48a1-8752-f9f94b6308ca",
   "metadata": {},
   "outputs": [
    {
     "data": {
      "text/plain": [
       "((8,), (8,))"
      ]
     },
     "execution_count": 159,
     "metadata": {},
     "output_type": "execute_result"
    }
   ],
   "source": [
    "input_shape = x.shape\n",
    "output_shape = y.shape\n",
    "input_shape, output_shape"
   ]
  },
  {
   "cell_type": "code",
   "execution_count": 160,
   "id": "0eaa9894-7db5-4c06-83f7-4c50ad2f134e",
   "metadata": {},
   "outputs": [
    {
     "data": {
      "text/plain": [
       "(-7.0, 3.0)"
      ]
     },
     "execution_count": 160,
     "metadata": {},
     "output_type": "execute_result"
    }
   ],
   "source": [
    "x[0], y[0]"
   ]
  },
  {
   "cell_type": "code",
   "execution_count": 161,
   "id": "e9db49a1-ee0a-4db0-8fcf-f2619c56ef4f",
   "metadata": {},
   "outputs": [
    {
     "data": {
      "text/plain": [
       "((), ())"
      ]
     },
     "execution_count": 161,
     "metadata": {},
     "output_type": "execute_result"
    }
   ],
   "source": [
    "input_shape = x[0].shape\n",
    "output_shape = y[0].shape\n",
    "input_shape, output_shape"
   ]
  },
  {
   "cell_type": "code",
   "execution_count": 162,
   "id": "335c544a-720d-49b4-a07e-add9906eead8",
   "metadata": {},
   "outputs": [
    {
     "data": {
      "text/plain": [
       "0"
      ]
     },
     "execution_count": 162,
     "metadata": {},
     "output_type": "execute_result"
    }
   ],
   "source": [
    "x[0].ndim"
   ]
  },
  {
   "cell_type": "markdown",
   "id": "ecba97c1-f0bc-45f9-bf63-7011a6417d8b",
   "metadata": {},
   "source": [
    "# turn our numpy array into tensors"
   ]
  },
  {
   "cell_type": "code",
   "execution_count": 163,
   "id": "f8371c4a-42b2-45f0-b2f6-3f85aca036ce",
   "metadata": {},
   "outputs": [],
   "source": [
    "# Convert to tensors and reshape x\n",
    "x = tf.cast(tf.constant(x), dtype=tf.float32)\n",
    "y = tf.cast(tf.constant(y), dtype=tf.float32)\n",
    "x = tf.reshape(x, (-1,1))   # Reshape to (8,1)"
   ]
  },
  {
   "cell_type": "code",
   "execution_count": 164,
   "id": "70c36671-f7d5-4ef7-a9f3-1d91f1684356",
   "metadata": {},
   "outputs": [
    {
     "data": {
      "text/plain": [
       "(TensorShape([1]), TensorShape([]))"
      ]
     },
     "execution_count": 164,
     "metadata": {},
     "output_type": "execute_result"
    }
   ],
   "source": [
    "input_shape = x[0].shape\n",
    "output_shape = y[0].shape\n",
    "input_shape, output_shape"
   ]
  },
  {
   "cell_type": "markdown",
   "id": "989a38f5-0df3-4bd8-8a65-c463517d7ba2",
   "metadata": {},
   "source": [
    "# Steps in modellign with TensorFlow\n",
    "\n",
    "### 1. Creating a model- define the input and output layers, as well as the hidden layers of a deep learning model\n",
    "### 2. Compiling the model- define the loss function and the optimixer and evaluation metrics\n",
    "### 3. Fitting the model- letting the model try to find the patterns between x and y "
   ]
  },
  {
   "cell_type": "code",
   "execution_count": 165,
   "id": "d7707579-4d70-41af-901e-b3cb6f980ff0",
   "metadata": {},
   "outputs": [
    {
     "name": "stdout",
     "output_type": "stream",
     "text": [
      "Epoch 1/5\n",
      "1/1 [==============================] - 0s 351ms/step - loss: 13.1395 - mae: 13.1395\n",
      "Epoch 2/5\n",
      "1/1 [==============================] - 0s 6ms/step - loss: 13.0070 - mae: 13.0070\n",
      "Epoch 3/5\n",
      "1/1 [==============================] - 0s 7ms/step - loss: 12.8745 - mae: 12.8745\n",
      "Epoch 4/5\n",
      "1/1 [==============================] - 0s 7ms/step - loss: 12.7420 - mae: 12.7420\n",
      "Epoch 5/5\n",
      "1/1 [==============================] - 0s 8ms/step - loss: 12.6095 - mae: 12.6095\n"
     ]
    },
    {
     "data": {
      "text/plain": [
       "<keras.callbacks.History at 0x1e5c2c49390>"
      ]
     },
     "execution_count": 165,
     "metadata": {},
     "output_type": "execute_result"
    }
   ],
   "source": [
    "# set random seed\n",
    "tf.random.set_seed(42)\n",
    "\n",
    "# 1. Create a model using the sequential API\n",
    "model = tf.keras.Sequential([\n",
    "    tf.keras.layers.Dense(1)\n",
    "])\n",
    "\n",
    "# other method to create a model-\n",
    "# model = tf.keras.Sequential()\n",
    "# model.add(tf.keras.layers.Dense(1))\n",
    "\n",
    "#2. Compile the model\n",
    "model.compile(loss = tf.keras.losses.mae,\n",
    "              optimizer = tf.keras.optimizers.SGD(),\n",
    "              metrics = ['mae'])\n",
    "\n",
    "# 3. Fit the model\n",
    "model.fit(x, y, epochs = 5)"
   ]
  },
  {
   "cell_type": "code",
   "execution_count": 166,
   "id": "a9122af8-8bfa-49f8-857f-5fffd17ac9ef",
   "metadata": {},
   "outputs": [
    {
     "data": {
      "text/plain": [
       "(<tf.Tensor: shape=(8, 1), dtype=float32, numpy=\n",
       " array([[-7.],\n",
       "        [-4.],\n",
       "        [-1.],\n",
       "        [ 2.],\n",
       "        [ 5.],\n",
       "        [ 8.],\n",
       "        [11.],\n",
       "        [14.]], dtype=float32)>,\n",
       " <tf.Tensor: shape=(8,), dtype=float32, numpy=array([ 3.,  6.,  9., 12., 15., 18., 21., 24.], dtype=float32)>)"
      ]
     },
     "execution_count": 166,
     "metadata": {},
     "output_type": "execute_result"
    }
   ],
   "source": [
    "# Check out x and y \n",
    "x, y"
   ]
  },
  {
   "cell_type": "code",
   "execution_count": 167,
   "id": "274b81fd-b891-4399-a31d-27b1e764c549",
   "metadata": {},
   "outputs": [
    {
     "name": "stdout",
     "output_type": "stream",
     "text": [
      "1/1 [==============================] - 0s 72ms/step\n"
     ]
    },
    {
     "data": {
      "text/plain": [
       "array([[4.2200737]], dtype=float32)"
      ]
     },
     "execution_count": 167,
     "metadata": {},
     "output_type": "execute_result"
    }
   ],
   "source": [
    "# try and make a prediction using our model\n",
    "y_pred = model.predict([15.0])\n",
    "y_pred"
   ]
  },
  {
   "cell_type": "markdown",
   "id": "ebe5417c-3b0c-43f7-971a-9376c3d3ffa1",
   "metadata": {},
   "source": [
    "### Improving the model "
   ]
  },
  {
   "cell_type": "markdown",
   "id": "3f939529-8779-422e-bfba-c43400729fd4",
   "metadata": {},
   "source": [
    "#### we can improve the model by altering the steps we took to create a model.\n",
    "\n",
    "#### 1. Creating a model- Here we might add more layers, increase the number of hidden units withing each layers, change the activation function of each layers.\n",
    "#### 2. Compiling the model- here we might change the optimization function or perhaps the learning rate of the optimization function.\n",
    "#### 3. Fitting the model- here we might fit a model for more epochs or on more data "
   ]
  },
  {
   "cell_type": "code",
   "execution_count": 168,
   "id": "1c5e4c3b-9508-424e-9eec-65a278e414cb",
   "metadata": {},
   "outputs": [],
   "source": [
    "# smaller model ---> bigger model "
   ]
  },
  {
   "cell_type": "code",
   "execution_count": 169,
   "id": "67044c4f-4dad-4de6-a599-900e3dfefb4b",
   "metadata": {},
   "outputs": [
    {
     "name": "stdout",
     "output_type": "stream",
     "text": [
      "Epoch 1/100\n",
      "1/1 [==============================] - 0s 292ms/step - loss: 21.9651 - mae: 21.9651\n",
      "Epoch 2/100\n",
      "1/1 [==============================] - 0s 5ms/step - loss: 21.5720 - mae: 21.5720\n",
      "Epoch 3/100\n",
      "1/1 [==============================] - 0s 10ms/step - loss: 21.1789 - mae: 21.1789\n",
      "Epoch 4/100\n",
      "1/1 [==============================] - 0s 6ms/step - loss: 20.7857 - mae: 20.7857\n",
      "Epoch 5/100\n",
      "1/1 [==============================] - 0s 9ms/step - loss: 20.4232 - mae: 20.4232\n",
      "Epoch 6/100\n",
      "1/1 [==============================] - 0s 5ms/step - loss: 20.1419 - mae: 20.1419\n",
      "Epoch 7/100\n",
      "1/1 [==============================] - 0s 5ms/step - loss: 19.8607 - mae: 19.8607\n",
      "Epoch 8/100\n",
      "1/1 [==============================] - 0s 6ms/step - loss: 19.5794 - mae: 19.5794\n",
      "Epoch 9/100\n",
      "1/1 [==============================] - 0s 5ms/step - loss: 19.2982 - mae: 19.2982\n",
      "Epoch 10/100\n",
      "1/1 [==============================] - 0s 9ms/step - loss: 19.0169 - mae: 19.0169\n",
      "Epoch 11/100\n",
      "1/1 [==============================] - 0s 6ms/step - loss: 18.7357 - mae: 18.7357\n",
      "Epoch 12/100\n",
      "1/1 [==============================] - 0s 9ms/step - loss: 18.4544 - mae: 18.4544\n",
      "Epoch 13/100\n",
      "1/1 [==============================] - 0s 6ms/step - loss: 18.1732 - mae: 18.1732\n",
      "Epoch 14/100\n",
      "1/1 [==============================] - 0s 11ms/step - loss: 17.8919 - mae: 17.8919\n",
      "Epoch 15/100\n",
      "1/1 [==============================] - 0s 5ms/step - loss: 17.6107 - mae: 17.6107\n",
      "Epoch 16/100\n",
      "1/1 [==============================] - 0s 6ms/step - loss: 17.3294 - mae: 17.3294\n",
      "Epoch 17/100\n",
      "1/1 [==============================] - 0s 6ms/step - loss: 17.0482 - mae: 17.0482\n",
      "Epoch 18/100\n",
      "1/1 [==============================] - 0s 7ms/step - loss: 16.7669 - mae: 16.7669\n",
      "Epoch 19/100\n",
      "1/1 [==============================] - 0s 11ms/step - loss: 16.4857 - mae: 16.4857\n",
      "Epoch 20/100\n",
      "1/1 [==============================] - 0s 8ms/step - loss: 16.2044 - mae: 16.2044\n",
      "Epoch 21/100\n",
      "1/1 [==============================] - 0s 6ms/step - loss: 15.9232 - mae: 15.9232\n",
      "Epoch 22/100\n",
      "1/1 [==============================] - 0s 7ms/step - loss: 15.6419 - mae: 15.6419\n",
      "Epoch 23/100\n",
      "1/1 [==============================] - 0s 6ms/step - loss: 15.3607 - mae: 15.3607\n",
      "Epoch 24/100\n",
      "1/1 [==============================] - 0s 7ms/step - loss: 15.0794 - mae: 15.0794\n",
      "Epoch 25/100\n",
      "1/1 [==============================] - 0s 8ms/step - loss: 14.7982 - mae: 14.7982\n",
      "Epoch 26/100\n",
      "1/1 [==============================] - 0s 6ms/step - loss: 14.5892 - mae: 14.5892\n",
      "Epoch 27/100\n",
      "1/1 [==============================] - 0s 8ms/step - loss: 14.4567 - mae: 14.4567\n",
      "Epoch 28/100\n",
      "1/1 [==============================] - 0s 7ms/step - loss: 14.3242 - mae: 14.3242\n",
      "Epoch 29/100\n",
      "1/1 [==============================] - 0s 7ms/step - loss: 14.1917 - mae: 14.1917\n",
      "Epoch 30/100\n",
      "1/1 [==============================] - 0s 10ms/step - loss: 14.0592 - mae: 14.0592\n",
      "Epoch 31/100\n",
      "1/1 [==============================] - 0s 6ms/step - loss: 13.9267 - mae: 13.9267\n",
      "Epoch 32/100\n",
      "1/1 [==============================] - 0s 8ms/step - loss: 13.7942 - mae: 13.7942\n",
      "Epoch 33/100\n",
      "1/1 [==============================] - 0s 6ms/step - loss: 13.6617 - mae: 13.6617\n",
      "Epoch 34/100\n",
      "1/1 [==============================] - 0s 6ms/step - loss: 13.5292 - mae: 13.5292\n",
      "Epoch 35/100\n",
      "1/1 [==============================] - 0s 5ms/step - loss: 13.3967 - mae: 13.3967\n",
      "Epoch 36/100\n",
      "1/1 [==============================] - 0s 7ms/step - loss: 13.2642 - mae: 13.2642\n",
      "Epoch 37/100\n",
      "1/1 [==============================] - 0s 6ms/step - loss: 13.1317 - mae: 13.1317\n",
      "Epoch 38/100\n",
      "1/1 [==============================] - 0s 14ms/step - loss: 12.9992 - mae: 12.9992\n",
      "Epoch 39/100\n",
      "1/1 [==============================] - 0s 15ms/step - loss: 12.8667 - mae: 12.8667\n",
      "Epoch 40/100\n",
      "1/1 [==============================] - 0s 8ms/step - loss: 12.7342 - mae: 12.7342\n",
      "Epoch 41/100\n",
      "1/1 [==============================] - 0s 7ms/step - loss: 12.6017 - mae: 12.6017\n",
      "Epoch 42/100\n",
      "1/1 [==============================] - 0s 12ms/step - loss: 12.4692 - mae: 12.4692\n",
      "Epoch 43/100\n",
      "1/1 [==============================] - 0s 8ms/step - loss: 12.3367 - mae: 12.3367\n",
      "Epoch 44/100\n",
      "1/1 [==============================] - 0s 8ms/step - loss: 12.2042 - mae: 12.2042\n",
      "Epoch 45/100\n",
      "1/1 [==============================] - 0s 6ms/step - loss: 12.0717 - mae: 12.0717\n",
      "Epoch 46/100\n",
      "1/1 [==============================] - 0s 6ms/step - loss: 11.9392 - mae: 11.9392\n",
      "Epoch 47/100\n",
      "1/1 [==============================] - 0s 7ms/step - loss: 11.8067 - mae: 11.8067\n",
      "Epoch 48/100\n",
      "1/1 [==============================] - 0s 6ms/step - loss: 11.6742 - mae: 11.6742\n",
      "Epoch 49/100\n",
      "1/1 [==============================] - 0s 6ms/step - loss: 11.5417 - mae: 11.5417\n",
      "Epoch 50/100\n",
      "1/1 [==============================] - 0s 5ms/step - loss: 11.4092 - mae: 11.4092\n",
      "Epoch 51/100\n",
      "1/1 [==============================] - 0s 8ms/step - loss: 11.2767 - mae: 11.2767\n",
      "Epoch 52/100\n",
      "1/1 [==============================] - 0s 5ms/step - loss: 11.1442 - mae: 11.1442\n",
      "Epoch 53/100\n",
      "1/1 [==============================] - 0s 6ms/step - loss: 11.0117 - mae: 11.0117\n",
      "Epoch 54/100\n",
      "1/1 [==============================] - 0s 7ms/step - loss: 10.8792 - mae: 10.8792\n",
      "Epoch 55/100\n",
      "1/1 [==============================] - 0s 5ms/step - loss: 10.7467 - mae: 10.7467\n",
      "Epoch 56/100\n",
      "1/1 [==============================] - 0s 8ms/step - loss: 10.6142 - mae: 10.6142\n",
      "Epoch 57/100\n",
      "1/1 [==============================] - 0s 6ms/step - loss: 10.4817 - mae: 10.4817\n",
      "Epoch 58/100\n",
      "1/1 [==============================] - 0s 6ms/step - loss: 10.3492 - mae: 10.3492\n",
      "Epoch 59/100\n",
      "1/1 [==============================] - 0s 6ms/step - loss: 10.2167 - mae: 10.2167\n",
      "Epoch 60/100\n",
      "1/1 [==============================] - 0s 5ms/step - loss: 10.0842 - mae: 10.0842\n",
      "Epoch 61/100\n",
      "1/1 [==============================] - 0s 6ms/step - loss: 9.9517 - mae: 9.9517\n",
      "Epoch 62/100\n",
      "1/1 [==============================] - 0s 7ms/step - loss: 9.8192 - mae: 9.8192\n",
      "Epoch 63/100\n",
      "1/1 [==============================] - 0s 6ms/step - loss: 9.6867 - mae: 9.6867\n",
      "Epoch 64/100\n",
      "1/1 [==============================] - 0s 5ms/step - loss: 9.5542 - mae: 9.5542\n",
      "Epoch 65/100\n",
      "1/1 [==============================] - 0s 7ms/step - loss: 9.4217 - mae: 9.4217\n",
      "Epoch 66/100\n",
      "1/1 [==============================] - 0s 6ms/step - loss: 9.2892 - mae: 9.2892\n",
      "Epoch 67/100\n",
      "1/1 [==============================] - 0s 6ms/step - loss: 9.1567 - mae: 9.1567\n",
      "Epoch 68/100\n",
      "1/1 [==============================] - 0s 6ms/step - loss: 9.0242 - mae: 9.0242\n",
      "Epoch 69/100\n",
      "1/1 [==============================] - 0s 7ms/step - loss: 8.8917 - mae: 8.8917\n",
      "Epoch 70/100\n",
      "1/1 [==============================] - 0s 6ms/step - loss: 8.7592 - mae: 8.7592\n",
      "Epoch 71/100\n",
      "1/1 [==============================] - 0s 6ms/step - loss: 8.6267 - mae: 8.6267\n",
      "Epoch 72/100\n",
      "1/1 [==============================] - 0s 6ms/step - loss: 8.4942 - mae: 8.4942\n",
      "Epoch 73/100\n",
      "1/1 [==============================] - 0s 7ms/step - loss: 8.3617 - mae: 8.3617\n",
      "Epoch 74/100\n",
      "1/1 [==============================] - 0s 5ms/step - loss: 8.2292 - mae: 8.2292\n",
      "Epoch 75/100\n",
      "1/1 [==============================] - 0s 6ms/step - loss: 8.0967 - mae: 8.0967\n",
      "Epoch 76/100\n",
      "1/1 [==============================] - 0s 6ms/step - loss: 7.9642 - mae: 7.9642\n",
      "Epoch 77/100\n",
      "1/1 [==============================] - 0s 6ms/step - loss: 7.8317 - mae: 7.8317\n",
      "Epoch 78/100\n",
      "1/1 [==============================] - 0s 6ms/step - loss: 7.6992 - mae: 7.6992\n",
      "Epoch 79/100\n",
      "1/1 [==============================] - 0s 6ms/step - loss: 7.5667 - mae: 7.5667\n",
      "Epoch 80/100\n",
      "1/1 [==============================] - 0s 6ms/step - loss: 7.4342 - mae: 7.4342\n",
      "Epoch 81/100\n",
      "1/1 [==============================] - 0s 5ms/step - loss: 7.3017 - mae: 7.3017\n",
      "Epoch 82/100\n",
      "1/1 [==============================] - 0s 6ms/step - loss: 7.1692 - mae: 7.1692\n",
      "Epoch 83/100\n",
      "1/1 [==============================] - 0s 6ms/step - loss: 7.0367 - mae: 7.0367\n",
      "Epoch 84/100\n",
      "1/1 [==============================] - 0s 6ms/step - loss: 6.9319 - mae: 6.9319\n",
      "Epoch 85/100\n",
      "1/1 [==============================] - 0s 6ms/step - loss: 6.9263 - mae: 6.9263\n",
      "Epoch 86/100\n",
      "1/1 [==============================] - 0s 6ms/step - loss: 6.9206 - mae: 6.9206\n",
      "Epoch 87/100\n",
      "1/1 [==============================] - 0s 6ms/step - loss: 6.9150 - mae: 6.9150\n",
      "Epoch 88/100\n",
      "1/1 [==============================] - 0s 9ms/step - loss: 6.9094 - mae: 6.9094\n",
      "Epoch 89/100\n",
      "1/1 [==============================] - 0s 8ms/step - loss: 6.9038 - mae: 6.9038\n",
      "Epoch 90/100\n",
      "1/1 [==============================] - 0s 5ms/step - loss: 6.8981 - mae: 6.8981\n",
      "Epoch 91/100\n",
      "1/1 [==============================] - 0s 7ms/step - loss: 6.8925 - mae: 6.8925\n",
      "Epoch 92/100\n",
      "1/1 [==============================] - 0s 6ms/step - loss: 6.8869 - mae: 6.8869\n",
      "Epoch 93/100\n",
      "1/1 [==============================] - 0s 7ms/step - loss: 6.8813 - mae: 6.8813\n",
      "Epoch 94/100\n",
      "1/1 [==============================] - 0s 7ms/step - loss: 6.8756 - mae: 6.8756\n",
      "Epoch 95/100\n",
      "1/1 [==============================] - 0s 6ms/step - loss: 6.8700 - mae: 6.8700\n",
      "Epoch 96/100\n",
      "1/1 [==============================] - 0s 6ms/step - loss: 6.8644 - mae: 6.8644\n",
      "Epoch 97/100\n",
      "1/1 [==============================] - 0s 5ms/step - loss: 6.8588 - mae: 6.8588\n",
      "Epoch 98/100\n",
      "1/1 [==============================] - 0s 8ms/step - loss: 6.8531 - mae: 6.8531\n",
      "Epoch 99/100\n",
      "1/1 [==============================] - 0s 8ms/step - loss: 6.8475 - mae: 6.8475\n",
      "Epoch 100/100\n",
      "1/1 [==============================] - 0s 6ms/step - loss: 6.8419 - mae: 6.8419\n"
     ]
    },
    {
     "data": {
      "text/plain": [
       "<keras.callbacks.History at 0x1e5c2cfa830>"
      ]
     },
     "execution_count": 169,
     "metadata": {},
     "output_type": "execute_result"
    }
   ],
   "source": [
    "# 1. Create the model \n",
    "model = tf.keras.Sequential([\n",
    "    tf.keras.layers.Dense(1)\n",
    "])\n",
    "\n",
    "#2. Compile the model\n",
    "model.compile(loss = tf.keras.losses.mae,\n",
    "              optimizer = tf.keras.optimizers.SGD(),\n",
    "              metrics = ['mae'])\n",
    "\n",
    "#3. Fit the model\n",
    "model.fit(x, y, epochs = 100)"
   ]
  },
  {
   "cell_type": "code",
   "execution_count": 170,
   "id": "30180a9c-e566-4b77-a4af-5e0c5e33b999",
   "metadata": {},
   "outputs": [
    {
     "data": {
      "text/plain": [
       "(<tf.Tensor: shape=(8, 1), dtype=float32, numpy=\n",
       " array([[-7.],\n",
       "        [-4.],\n",
       "        [-1.],\n",
       "        [ 2.],\n",
       "        [ 5.],\n",
       "        [ 8.],\n",
       "        [11.],\n",
       "        [14.]], dtype=float32)>,\n",
       " <tf.Tensor: shape=(8,), dtype=float32, numpy=array([ 3.,  6.,  9., 12., 15., 18., 21., 24.], dtype=float32)>)"
      ]
     },
     "execution_count": 170,
     "metadata": {},
     "output_type": "execute_result"
    }
   ],
   "source": [
    "#lets check the data\n",
    "x, y"
   ]
  },
  {
   "cell_type": "markdown",
   "id": "4c62951c-f9b2-4330-87d3-60fe9aa89a98",
   "metadata": {},
   "source": [
    "### prediction is very poor "
   ]
  },
  {
   "cell_type": "code",
   "execution_count": 171,
   "id": "ccd7042b-515d-4935-87cb-8cf73a0caa2e",
   "metadata": {},
   "outputs": [
    {
     "name": "stdout",
     "output_type": "stream",
     "text": [
      "1/1 [==============================] - 0s 67ms/step\n"
     ]
    },
    {
     "data": {
      "text/plain": [
       "array([[29.24239]], dtype=float32)"
      ]
     },
     "execution_count": 171,
     "metadata": {},
     "output_type": "execute_result"
    }
   ],
   "source": [
    "# lets check if the model has improved \n",
    "model.predict([17.0])"
   ]
  },
  {
   "cell_type": "code",
   "execution_count": 172,
   "id": "25142f1a-bd59-4171-a1c5-45d71f6f50df",
   "metadata": {},
   "outputs": [
    {
     "name": "stdout",
     "output_type": "stream",
     "text": [
      "Epoch 1/100\n",
      "1/1 [==============================] - 0s 303ms/step - loss: 12.8827 - mae: 12.8827\n",
      "Epoch 2/100\n",
      "1/1 [==============================] - 0s 6ms/step - loss: 12.8255 - mae: 12.8255\n",
      "Epoch 3/100\n",
      "1/1 [==============================] - 0s 6ms/step - loss: 12.7641 - mae: 12.7641\n",
      "Epoch 4/100\n",
      "1/1 [==============================] - 0s 6ms/step - loss: 12.6981 - mae: 12.6981\n",
      "Epoch 5/100\n",
      "1/1 [==============================] - 0s 6ms/step - loss: 12.6269 - mae: 12.6269\n",
      "Epoch 6/100\n",
      "1/1 [==============================] - 0s 6ms/step - loss: 12.5500 - mae: 12.5500\n",
      "Epoch 7/100\n",
      "1/1 [==============================] - 0s 5ms/step - loss: 12.4666 - mae: 12.4666\n",
      "Epoch 8/100\n",
      "1/1 [==============================] - 0s 5ms/step - loss: 12.3761 - mae: 12.3761\n",
      "Epoch 9/100\n",
      "1/1 [==============================] - 0s 5ms/step - loss: 12.2774 - mae: 12.2774\n",
      "Epoch 10/100\n",
      "1/1 [==============================] - 0s 5ms/step - loss: 12.1696 - mae: 12.1696\n",
      "Epoch 11/100\n",
      "1/1 [==============================] - 0s 5ms/step - loss: 12.0514 - mae: 12.0514\n",
      "Epoch 12/100\n",
      "1/1 [==============================] - 0s 5ms/step - loss: 11.9216 - mae: 11.9216\n",
      "Epoch 13/100\n",
      "1/1 [==============================] - 0s 4ms/step - loss: 11.7784 - mae: 11.7784\n",
      "Epoch 14/100\n",
      "1/1 [==============================] - 0s 4ms/step - loss: 11.6200 - mae: 11.6200\n",
      "Epoch 15/100\n",
      "1/1 [==============================] - 0s 6ms/step - loss: 11.4442 - mae: 11.4442\n",
      "Epoch 16/100\n",
      "1/1 [==============================] - 0s 5ms/step - loss: 11.2484 - mae: 11.2484\n",
      "Epoch 17/100\n",
      "1/1 [==============================] - 0s 6ms/step - loss: 11.0295 - mae: 11.0295\n",
      "Epoch 18/100\n",
      "1/1 [==============================] - 0s 4ms/step - loss: 10.7838 - mae: 10.7838\n",
      "Epoch 19/100\n",
      "1/1 [==============================] - 0s 5ms/step - loss: 10.5069 - mae: 10.5069\n",
      "Epoch 20/100\n",
      "1/1 [==============================] - 0s 5ms/step - loss: 10.1935 - mae: 10.1935\n",
      "Epoch 21/100\n",
      "1/1 [==============================] - 0s 7ms/step - loss: 9.8373 - mae: 9.8373\n",
      "Epoch 22/100\n",
      "1/1 [==============================] - 0s 5ms/step - loss: 9.4304 - mae: 9.4304\n",
      "Epoch 23/100\n",
      "1/1 [==============================] - 0s 5ms/step - loss: 8.9633 - mae: 8.9633\n",
      "Epoch 24/100\n",
      "1/1 [==============================] - 0s 6ms/step - loss: 8.4242 - mae: 8.4242\n",
      "Epoch 25/100\n",
      "1/1 [==============================] - 0s 6ms/step - loss: 7.7984 - mae: 7.7984\n",
      "Epoch 26/100\n",
      "1/1 [==============================] - 0s 5ms/step - loss: 7.0675 - mae: 7.0675\n",
      "Epoch 27/100\n",
      "1/1 [==============================] - 0s 5ms/step - loss: 7.1310 - mae: 7.1310\n",
      "Epoch 28/100\n",
      "1/1 [==============================] - 0s 6ms/step - loss: 7.0064 - mae: 7.0064\n",
      "Epoch 29/100\n",
      "1/1 [==============================] - 0s 6ms/step - loss: 6.9837 - mae: 6.9837\n",
      "Epoch 30/100\n",
      "1/1 [==============================] - 0s 5ms/step - loss: 6.9608 - mae: 6.9608\n",
      "Epoch 31/100\n",
      "1/1 [==============================] - 0s 5ms/step - loss: 6.9377 - mae: 6.9377\n",
      "Epoch 32/100\n",
      "1/1 [==============================] - 0s 6ms/step - loss: 6.9143 - mae: 6.9143\n",
      "Epoch 33/100\n",
      "1/1 [==============================] - 0s 6ms/step - loss: 6.8908 - mae: 6.8908\n",
      "Epoch 34/100\n",
      "1/1 [==============================] - 0s 5ms/step - loss: 6.8669 - mae: 6.8669\n",
      "Epoch 35/100\n",
      "1/1 [==============================] - 0s 5ms/step - loss: 6.8428 - mae: 6.8428\n",
      "Epoch 36/100\n",
      "1/1 [==============================] - 0s 6ms/step - loss: 6.8185 - mae: 6.8185\n",
      "Epoch 37/100\n",
      "1/1 [==============================] - 0s 5ms/step - loss: 6.7938 - mae: 6.7938\n",
      "Epoch 38/100\n",
      "1/1 [==============================] - 0s 5ms/step - loss: 6.7688 - mae: 6.7688\n",
      "Epoch 39/100\n",
      "1/1 [==============================] - 0s 6ms/step - loss: 6.7435 - mae: 6.7435\n",
      "Epoch 40/100\n",
      "1/1 [==============================] - 0s 7ms/step - loss: 6.7178 - mae: 6.7178\n",
      "Epoch 41/100\n",
      "1/1 [==============================] - 0s 6ms/step - loss: 6.7057 - mae: 6.7057\n",
      "Epoch 42/100\n",
      "1/1 [==============================] - 0s 6ms/step - loss: 6.7048 - mae: 6.7048\n",
      "Epoch 43/100\n",
      "1/1 [==============================] - 0s 5ms/step - loss: 6.6803 - mae: 6.6803\n",
      "Epoch 44/100\n",
      "1/1 [==============================] - 0s 6ms/step - loss: 6.6555 - mae: 6.6555\n",
      "Epoch 45/100\n",
      "1/1 [==============================] - 0s 8ms/step - loss: 6.6303 - mae: 6.6303\n",
      "Epoch 46/100\n",
      "1/1 [==============================] - 0s 5ms/step - loss: 6.6046 - mae: 6.6046\n",
      "Epoch 47/100\n",
      "1/1 [==============================] - 0s 4ms/step - loss: 6.5786 - mae: 6.5786\n",
      "Epoch 48/100\n",
      "1/1 [==============================] - 0s 6ms/step - loss: 6.5522 - mae: 6.5522\n",
      "Epoch 49/100\n",
      "1/1 [==============================] - 0s 6ms/step - loss: 6.5253 - mae: 6.5253\n",
      "Epoch 50/100\n",
      "1/1 [==============================] - 0s 6ms/step - loss: 6.4979 - mae: 6.4979\n",
      "Epoch 51/100\n",
      "1/1 [==============================] - 0s 5ms/step - loss: 6.4701 - mae: 6.4701\n",
      "Epoch 52/100\n",
      "1/1 [==============================] - 0s 6ms/step - loss: 6.4418 - mae: 6.4418\n",
      "Epoch 53/100\n",
      "1/1 [==============================] - 0s 5ms/step - loss: 6.4214 - mae: 6.4214\n",
      "Epoch 54/100\n",
      "1/1 [==============================] - 0s 8ms/step - loss: 6.4347 - mae: 6.4347\n",
      "Epoch 55/100\n",
      "1/1 [==============================] - 0s 5ms/step - loss: 6.4072 - mae: 6.4072\n",
      "Epoch 56/100\n",
      "1/1 [==============================] - 0s 6ms/step - loss: 6.3792 - mae: 6.3792\n",
      "Epoch 57/100\n",
      "1/1 [==============================] - 0s 7ms/step - loss: 6.3506 - mae: 6.3506\n",
      "Epoch 58/100\n",
      "1/1 [==============================] - 0s 5ms/step - loss: 6.3215 - mae: 6.3215\n",
      "Epoch 59/100\n",
      "1/1 [==============================] - 0s 4ms/step - loss: 6.2918 - mae: 6.2918\n",
      "Epoch 60/100\n",
      "1/1 [==============================] - 0s 6ms/step - loss: 6.2615 - mae: 6.2615\n",
      "Epoch 61/100\n",
      "1/1 [==============================] - 0s 5ms/step - loss: 6.2306 - mae: 6.2306\n",
      "Epoch 62/100\n",
      "1/1 [==============================] - 0s 7ms/step - loss: 6.1991 - mae: 6.1991\n",
      "Epoch 63/100\n",
      "1/1 [==============================] - 0s 6ms/step - loss: 6.1965 - mae: 6.1965\n",
      "Epoch 64/100\n",
      "1/1 [==============================] - 0s 6ms/step - loss: 6.1949 - mae: 6.1949\n",
      "Epoch 65/100\n",
      "1/1 [==============================] - 0s 6ms/step - loss: 6.1639 - mae: 6.1639\n",
      "Epoch 66/100\n",
      "1/1 [==============================] - 0s 9ms/step - loss: 6.1322 - mae: 6.1322\n",
      "Epoch 67/100\n",
      "1/1 [==============================] - 0s 9ms/step - loss: 6.0998 - mae: 6.0998\n",
      "Epoch 68/100\n",
      "1/1 [==============================] - 0s 8ms/step - loss: 6.0667 - mae: 6.0667\n",
      "Epoch 69/100\n",
      "1/1 [==============================] - 0s 6ms/step - loss: 6.0328 - mae: 6.0328\n",
      "Epoch 70/100\n",
      "1/1 [==============================] - 0s 6ms/step - loss: 5.9981 - mae: 5.9981\n",
      "Epoch 71/100\n",
      "1/1 [==============================] - 0s 9ms/step - loss: 5.9788 - mae: 5.9788\n",
      "Epoch 72/100\n",
      "1/1 [==============================] - 0s 12ms/step - loss: 5.9950 - mae: 5.9950\n",
      "Epoch 73/100\n",
      "1/1 [==============================] - 0s 11ms/step - loss: 5.9606 - mae: 5.9606\n",
      "Epoch 74/100\n",
      "1/1 [==============================] - 0s 12ms/step - loss: 5.9254 - mae: 5.9254\n",
      "Epoch 75/100\n",
      "1/1 [==============================] - 0s 11ms/step - loss: 5.8893 - mae: 5.8893\n",
      "Epoch 76/100\n",
      "1/1 [==============================] - 0s 11ms/step - loss: 5.8524 - mae: 5.8524\n",
      "Epoch 77/100\n",
      "1/1 [==============================] - 0s 10ms/step - loss: 5.8145 - mae: 5.8145\n",
      "Epoch 78/100\n",
      "1/1 [==============================] - 0s 6ms/step - loss: 5.7757 - mae: 5.7757\n",
      "Epoch 79/100\n",
      "1/1 [==============================] - 0s 6ms/step - loss: 5.8061 - mae: 5.8061\n",
      "Epoch 80/100\n",
      "1/1 [==============================] - 0s 6ms/step - loss: 5.7723 - mae: 5.7723\n",
      "Epoch 81/100\n",
      "1/1 [==============================] - 0s 5ms/step - loss: 5.7334 - mae: 5.7334\n",
      "Epoch 82/100\n",
      "1/1 [==============================] - 0s 5ms/step - loss: 5.6936 - mae: 5.6936\n",
      "Epoch 83/100\n",
      "1/1 [==============================] - 0s 5ms/step - loss: 5.6527 - mae: 5.6527\n",
      "Epoch 84/100\n",
      "1/1 [==============================] - 0s 5ms/step - loss: 5.6108 - mae: 5.6108\n",
      "Epoch 85/100\n",
      "1/1 [==============================] - 0s 5ms/step - loss: 5.5918 - mae: 5.5918\n",
      "Epoch 86/100\n",
      "1/1 [==============================] - 0s 5ms/step - loss: 5.6059 - mae: 5.6059\n",
      "Epoch 87/100\n",
      "1/1 [==============================] - 0s 5ms/step - loss: 5.5636 - mae: 5.5636\n",
      "Epoch 88/100\n",
      "1/1 [==============================] - 0s 6ms/step - loss: 5.5202 - mae: 5.5202\n",
      "Epoch 89/100\n",
      "1/1 [==============================] - 0s 6ms/step - loss: 5.4756 - mae: 5.4756\n",
      "Epoch 90/100\n",
      "1/1 [==============================] - 0s 6ms/step - loss: 5.4298 - mae: 5.4298\n",
      "Epoch 91/100\n",
      "1/1 [==============================] - 0s 6ms/step - loss: 5.4008 - mae: 5.4008\n",
      "Epoch 92/100\n",
      "1/1 [==============================] - 0s 5ms/step - loss: 5.4225 - mae: 5.4225\n",
      "Epoch 93/100\n",
      "1/1 [==============================] - 0s 5ms/step - loss: 5.3761 - mae: 5.3761\n",
      "Epoch 94/100\n",
      "1/1 [==============================] - 0s 6ms/step - loss: 5.3283 - mae: 5.3283\n",
      "Epoch 95/100\n",
      "1/1 [==============================] - 0s 6ms/step - loss: 5.2792 - mae: 5.2792\n",
      "Epoch 96/100\n",
      "1/1 [==============================] - 0s 8ms/step - loss: 5.2286 - mae: 5.2286\n",
      "Epoch 97/100\n",
      "1/1 [==============================] - 0s 5ms/step - loss: 5.2268 - mae: 5.2268\n",
      "Epoch 98/100\n",
      "1/1 [==============================] - 0s 8ms/step - loss: 5.2178 - mae: 5.2178\n",
      "Epoch 99/100\n",
      "1/1 [==============================] - 0s 5ms/step - loss: 5.1663 - mae: 5.1663\n",
      "Epoch 100/100\n",
      "1/1 [==============================] - 0s 6ms/step - loss: 5.1132 - mae: 5.1132\n"
     ]
    },
    {
     "data": {
      "text/plain": [
       "<keras.callbacks.History at 0x1e5c2db7ac0>"
      ]
     },
     "execution_count": 172,
     "metadata": {},
     "output_type": "execute_result"
    }
   ],
   "source": [
    "# 1. Create the model \n",
    "model = tf.keras.Sequential([\n",
    "    tf.keras.layers.Dense(1),\n",
    "    tf.keras.layers.Dense(1),\n",
    "    tf.keras.layers.Dense(1)\n",
    "])\n",
    "\n",
    "#2. Compile the model\n",
    "model.compile(loss = tf.keras.losses.mae,\n",
    "              optimizer = tf.keras.optimizers.SGD(),\n",
    "              metrics = ['mae'])\n",
    "\n",
    "#3. Fit the model\n",
    "model.fit(x, y, epochs = 100)"
   ]
  },
  {
   "cell_type": "code",
   "execution_count": 173,
   "id": "8794e8bb-60e3-482e-a925-023a28e2b599",
   "metadata": {},
   "outputs": [
    {
     "name": "stdout",
     "output_type": "stream",
     "text": [
      "1/1 [==============================] - 0s 80ms/step\n"
     ]
    },
    {
     "data": {
      "text/plain": [
       "array([[30.204668]], dtype=float32)"
      ]
     },
     "execution_count": 173,
     "metadata": {},
     "output_type": "execute_result"
    }
   ],
   "source": [
    "model.predict([17.0])"
   ]
  },
  {
   "cell_type": "code",
   "execution_count": 174,
   "id": "64a3b490-ddbb-4ffa-8787-d96a3601a79f",
   "metadata": {},
   "outputs": [
    {
     "name": "stdout",
     "output_type": "stream",
     "text": [
      "Epoch 1/100\n",
      "1/1 [==============================] - 0s 296ms/step - loss: 12.7857 - mae: 12.7857\n",
      "Epoch 2/100\n",
      "1/1 [==============================] - 0s 5ms/step - loss: 12.1767 - mae: 12.1767\n",
      "Epoch 3/100\n",
      "1/1 [==============================] - 0s 7ms/step - loss: 11.5673 - mae: 11.5673\n",
      "Epoch 4/100\n",
      "1/1 [==============================] - 0s 6ms/step - loss: 10.9582 - mae: 10.9582\n",
      "Epoch 5/100\n",
      "1/1 [==============================] - 0s 6ms/step - loss: 10.3443 - mae: 10.3443\n",
      "Epoch 6/100\n",
      "1/1 [==============================] - 0s 6ms/step - loss: 9.6987 - mae: 9.6987\n",
      "Epoch 7/100\n",
      "1/1 [==============================] - 0s 4ms/step - loss: 9.0223 - mae: 9.0223\n",
      "Epoch 8/100\n",
      "1/1 [==============================] - 0s 5ms/step - loss: 8.3098 - mae: 8.3098\n",
      "Epoch 9/100\n",
      "1/1 [==============================] - 0s 6ms/step - loss: 7.5551 - mae: 7.5551\n",
      "Epoch 10/100\n",
      "1/1 [==============================] - 0s 6ms/step - loss: 6.7486 - mae: 6.7486\n",
      "Epoch 11/100\n",
      "1/1 [==============================] - 0s 7ms/step - loss: 5.9051 - mae: 5.9051\n",
      "Epoch 12/100\n",
      "1/1 [==============================] - 0s 7ms/step - loss: 5.0245 - mae: 5.0245\n",
      "Epoch 13/100\n",
      "1/1 [==============================] - 0s 5ms/step - loss: 4.1626 - mae: 4.1626\n",
      "Epoch 14/100\n",
      "1/1 [==============================] - 0s 6ms/step - loss: 4.0646 - mae: 4.0646\n",
      "Epoch 15/100\n",
      "1/1 [==============================] - 0s 4ms/step - loss: 3.9707 - mae: 3.9707\n",
      "Epoch 16/100\n",
      "1/1 [==============================] - 0s 5ms/step - loss: 3.9404 - mae: 3.9404\n",
      "Epoch 17/100\n",
      "1/1 [==============================] - 0s 9ms/step - loss: 3.9457 - mae: 3.9457\n",
      "Epoch 18/100\n",
      "1/1 [==============================] - 0s 7ms/step - loss: 3.9474 - mae: 3.9474\n",
      "Epoch 19/100\n",
      "1/1 [==============================] - 0s 5ms/step - loss: 3.9194 - mae: 3.9194\n",
      "Epoch 20/100\n",
      "1/1 [==============================] - 0s 5ms/step - loss: 3.9546 - mae: 3.9546\n",
      "Epoch 21/100\n",
      "1/1 [==============================] - 0s 4ms/step - loss: 3.8931 - mae: 3.8931\n",
      "Epoch 22/100\n",
      "1/1 [==============================] - 0s 5ms/step - loss: 3.9621 - mae: 3.9621\n",
      "Epoch 23/100\n",
      "1/1 [==============================] - 0s 6ms/step - loss: 3.8964 - mae: 3.8964\n",
      "Epoch 24/100\n",
      "1/1 [==============================] - 0s 5ms/step - loss: 3.9504 - mae: 3.9504\n",
      "Epoch 25/100\n",
      "1/1 [==============================] - 0s 6ms/step - loss: 3.9075 - mae: 3.9075\n",
      "Epoch 26/100\n",
      "1/1 [==============================] - 0s 6ms/step - loss: 3.9243 - mae: 3.9243\n",
      "Epoch 27/100\n",
      "1/1 [==============================] - 0s 4ms/step - loss: 3.9150 - mae: 3.9150\n",
      "Epoch 28/100\n",
      "1/1 [==============================] - 0s 5ms/step - loss: 3.8978 - mae: 3.8978\n",
      "Epoch 29/100\n",
      "1/1 [==============================] - 0s 6ms/step - loss: 3.9225 - mae: 3.9225\n",
      "Epoch 30/100\n",
      "1/1 [==============================] - 0s 4ms/step - loss: 3.8711 - mae: 3.8711\n",
      "Epoch 31/100\n",
      "1/1 [==============================] - 0s 5ms/step - loss: 3.9315 - mae: 3.9315\n",
      "Epoch 32/100\n",
      "1/1 [==============================] - 0s 6ms/step - loss: 3.8687 - mae: 3.8687\n",
      "Epoch 33/100\n",
      "1/1 [==============================] - 0s 4ms/step - loss: 3.9280 - mae: 3.9280\n",
      "Epoch 34/100\n",
      "1/1 [==============================] - 0s 6ms/step - loss: 3.8763 - mae: 3.8763\n",
      "Epoch 35/100\n",
      "1/1 [==============================] - 0s 6ms/step - loss: 3.9014 - mae: 3.9014\n",
      "Epoch 36/100\n",
      "1/1 [==============================] - 0s 5ms/step - loss: 3.8838 - mae: 3.8838\n",
      "Epoch 37/100\n",
      "1/1 [==============================] - 0s 6ms/step - loss: 3.8745 - mae: 3.8745\n",
      "Epoch 38/100\n",
      "1/1 [==============================] - 0s 6ms/step - loss: 3.8915 - mae: 3.8915\n",
      "Epoch 39/100\n",
      "1/1 [==============================] - 0s 5ms/step - loss: 3.8477 - mae: 3.8477\n",
      "Epoch 40/100\n",
      "1/1 [==============================] - 0s 5ms/step - loss: 3.9059 - mae: 3.9059\n",
      "Epoch 41/100\n",
      "1/1 [==============================] - 0s 4ms/step - loss: 3.8384 - mae: 3.8384\n",
      "Epoch 42/100\n",
      "1/1 [==============================] - 0s 6ms/step - loss: 3.9039 - mae: 3.9039\n",
      "Epoch 43/100\n",
      "1/1 [==============================] - 0s 5ms/step - loss: 3.8460 - mae: 3.8460\n",
      "Epoch 44/100\n",
      "1/1 [==============================] - 0s 6ms/step - loss: 3.8772 - mae: 3.8772\n",
      "Epoch 45/100\n",
      "1/1 [==============================] - 0s 5ms/step - loss: 3.8536 - mae: 3.8536\n",
      "Epoch 46/100\n",
      "1/1 [==============================] - 0s 6ms/step - loss: 3.8505 - mae: 3.8505\n",
      "Epoch 47/100\n",
      "1/1 [==============================] - 0s 4ms/step - loss: 3.8615 - mae: 3.8615\n",
      "Epoch 48/100\n",
      "1/1 [==============================] - 0s 6ms/step - loss: 3.8275 - mae: 3.8275\n",
      "Epoch 49/100\n",
      "1/1 [==============================] - 0s 5ms/step - loss: 3.8776 - mae: 3.8776\n",
      "Epoch 50/100\n",
      "1/1 [==============================] - 0s 6ms/step - loss: 3.8090 - mae: 3.8090\n",
      "Epoch 51/100\n",
      "1/1 [==============================] - 0s 5ms/step - loss: 3.8791 - mae: 3.8791\n",
      "Epoch 52/100\n",
      "1/1 [==============================] - 0s 6ms/step - loss: 3.8167 - mae: 3.8167\n",
      "Epoch 53/100\n",
      "1/1 [==============================] - 0s 4ms/step - loss: 3.8519 - mae: 3.8519\n",
      "Epoch 54/100\n",
      "1/1 [==============================] - 0s 5ms/step - loss: 3.8246 - mae: 3.8246\n",
      "Epoch 55/100\n",
      "1/1 [==============================] - 0s 6ms/step - loss: 3.8247 - mae: 3.8247\n",
      "Epoch 56/100\n",
      "1/1 [==============================] - 0s 5ms/step - loss: 3.8346 - mae: 3.8346\n",
      "Epoch 57/100\n",
      "1/1 [==============================] - 0s 7ms/step - loss: 3.8046 - mae: 3.8046\n",
      "Epoch 58/100\n",
      "1/1 [==============================] - 0s 6ms/step - loss: 3.8491 - mae: 3.8491\n",
      "Epoch 59/100\n",
      "1/1 [==============================] - 0s 5ms/step - loss: 3.7806 - mae: 3.7806\n",
      "Epoch 60/100\n",
      "1/1 [==============================] - 0s 5ms/step - loss: 3.8525 - mae: 3.8525\n",
      "Epoch 61/100\n",
      "1/1 [==============================] - 0s 4ms/step - loss: 3.7886 - mae: 3.7886\n",
      "Epoch 62/100\n",
      "1/1 [==============================] - 0s 5ms/step - loss: 3.8253 - mae: 3.8253\n",
      "Epoch 63/100\n",
      "1/1 [==============================] - 0s 5ms/step - loss: 3.7969 - mae: 3.7969\n",
      "Epoch 64/100\n",
      "1/1 [==============================] - 0s 5ms/step - loss: 3.7979 - mae: 3.7979\n",
      "Epoch 65/100\n",
      "1/1 [==============================] - 0s 8ms/step - loss: 3.8120 - mae: 3.8120\n",
      "Epoch 66/100\n",
      "1/1 [==============================] - 0s 5ms/step - loss: 3.7774 - mae: 3.7774\n",
      "Epoch 67/100\n",
      "1/1 [==============================] - 0s 5ms/step - loss: 3.8216 - mae: 3.8216\n",
      "Epoch 68/100\n",
      "1/1 [==============================] - 0s 6ms/step - loss: 3.7536 - mae: 3.7536\n",
      "Epoch 69/100\n",
      "1/1 [==============================] - 0s 6ms/step - loss: 3.8251 - mae: 3.8251\n",
      "Epoch 70/100\n",
      "1/1 [==============================] - 0s 5ms/step - loss: 3.7617 - mae: 3.7617\n",
      "Epoch 71/100\n",
      "1/1 [==============================] - 0s 5ms/step - loss: 3.7975 - mae: 3.7975\n",
      "Epoch 72/100\n",
      "1/1 [==============================] - 0s 7ms/step - loss: 3.7701 - mae: 3.7701\n",
      "Epoch 73/100\n",
      "1/1 [==============================] - 0s 5ms/step - loss: 3.7745 - mae: 3.7745\n",
      "Epoch 74/100\n",
      "1/1 [==============================] - 0s 6ms/step - loss: 3.7866 - mae: 3.7866\n",
      "Epoch 75/100\n",
      "1/1 [==============================] - 0s 4ms/step - loss: 3.7485 - mae: 3.7485\n",
      "Epoch 76/100\n",
      "1/1 [==============================] - 0s 4ms/step - loss: 3.7951 - mae: 3.7951\n",
      "Epoch 77/100\n",
      "1/1 [==============================] - 0s 7ms/step - loss: 3.7272 - mae: 3.7272\n",
      "Epoch 78/100\n",
      "1/1 [==============================] - 0s 5ms/step - loss: 3.7959 - mae: 3.7959\n",
      "Epoch 79/100\n",
      "1/1 [==============================] - 0s 6ms/step - loss: 3.7355 - mae: 3.7355\n",
      "Epoch 80/100\n",
      "1/1 [==============================] - 0s 6ms/step - loss: 3.7681 - mae: 3.7681\n",
      "Epoch 81/100\n",
      "1/1 [==============================] - 0s 6ms/step - loss: 3.7465 - mae: 3.7465\n",
      "Epoch 82/100\n",
      "1/1 [==============================] - 0s 5ms/step - loss: 3.7473 - mae: 3.7473\n",
      "Epoch 83/100\n",
      "1/1 [==============================] - 0s 6ms/step - loss: 3.7607 - mae: 3.7607\n",
      "Epoch 84/100\n",
      "1/1 [==============================] - 0s 6ms/step - loss: 3.7188 - mae: 3.7188\n",
      "Epoch 85/100\n",
      "1/1 [==============================] - 0s 5ms/step - loss: 3.7694 - mae: 3.7694\n",
      "Epoch 86/100\n",
      "1/1 [==============================] - 0s 5ms/step - loss: 3.7019 - mae: 3.7019\n",
      "Epoch 87/100\n",
      "1/1 [==============================] - 0s 5ms/step - loss: 3.7657 - mae: 3.7657\n",
      "Epoch 88/100\n",
      "1/1 [==============================] - 0s 6ms/step - loss: 3.7106 - mae: 3.7106\n",
      "Epoch 89/100\n",
      "1/1 [==============================] - 0s 6ms/step - loss: 3.7376 - mae: 3.7376\n",
      "Epoch 90/100\n",
      "1/1 [==============================] - 0s 4ms/step - loss: 3.7272 - mae: 3.7272\n",
      "Epoch 91/100\n",
      "1/1 [==============================] - 0s 5ms/step - loss: 3.7163 - mae: 3.7163\n",
      "Epoch 92/100\n",
      "1/1 [==============================] - 0s 6ms/step - loss: 3.7361 - mae: 3.7361\n",
      "Epoch 93/100\n",
      "1/1 [==============================] - 0s 4ms/step - loss: 3.6874 - mae: 3.6874\n",
      "Epoch 94/100\n",
      "1/1 [==============================] - 0s 5ms/step - loss: 3.7451 - mae: 3.7451\n",
      "Epoch 95/100\n",
      "1/1 [==============================] - 0s 6ms/step - loss: 3.6775 - mae: 3.6775\n",
      "Epoch 96/100\n",
      "1/1 [==============================] - 0s 6ms/step - loss: 3.7343 - mae: 3.7343\n",
      "Epoch 97/100\n",
      "1/1 [==============================] - 0s 6ms/step - loss: 3.6863 - mae: 3.6863\n",
      "Epoch 98/100\n",
      "1/1 [==============================] - 0s 5ms/step - loss: 3.7105 - mae: 3.7105\n",
      "Epoch 99/100\n",
      "1/1 [==============================] - 0s 6ms/step - loss: 3.7036 - mae: 3.7036\n",
      "Epoch 100/100\n",
      "1/1 [==============================] - 0s 5ms/step - loss: 3.6841 - mae: 3.6841\n"
     ]
    },
    {
     "data": {
      "text/plain": [
       "<keras.callbacks.History at 0x1e5c31361a0>"
      ]
     },
     "execution_count": 174,
     "metadata": {},
     "output_type": "execute_result"
    }
   ],
   "source": [
    "# Let's see if we can improve the model further \n",
    "\n",
    "#1. Create the model\n",
    "model = tf.keras.Sequential([\n",
    "    tf.keras.layers.Dense(100, activation = 'relu'),\n",
    "    tf.keras.layers.Dense(1)\n",
    "]) \n",
    "\n",
    "#2. Compile the model\n",
    "model.compile(loss = 'mae',\n",
    "              optimizer = tf.keras.optimizers.SGD(),\n",
    "              metrics = ['mae'])\n",
    "\n",
    "#3. Fit the model\n",
    "model.fit(x, y, epochs = 100)"
   ]
  },
  {
   "cell_type": "code",
   "execution_count": 175,
   "id": "d4b929ce-5ef7-43ed-b745-52c66770f5aa",
   "metadata": {},
   "outputs": [
    {
     "name": "stdout",
     "output_type": "stream",
     "text": [
      "1/1 [==============================] - 0s 68ms/step\n"
     ]
    },
    {
     "data": {
      "text/plain": [
       "array([[32.731415]], dtype=float32)"
      ]
     },
     "execution_count": 175,
     "metadata": {},
     "output_type": "execute_result"
    }
   ],
   "source": [
    "model.predict([17.0])"
   ]
  },
  {
   "cell_type": "markdown",
   "id": "c1624bb9-bef4-4786-a3ed-c658ea7ca676",
   "metadata": {},
   "source": [
    "### The model is overfitting and is just learning the data rather than the method"
   ]
  },
  {
   "cell_type": "code",
   "execution_count": 176,
   "id": "2385e925-03ef-49ff-ae55-a17f7086a81f",
   "metadata": {},
   "outputs": [
    {
     "name": "stdout",
     "output_type": "stream",
     "text": [
      "Epoch 1/100\n",
      "1/1 [==============================] - 1s 571ms/step - loss: 13.0503 - mae: 13.0503\n",
      "Epoch 2/100\n",
      "1/1 [==============================] - 0s 5ms/step - loss: 13.0420 - mae: 13.0420\n",
      "Epoch 3/100\n",
      "1/1 [==============================] - 0s 9ms/step - loss: 13.0339 - mae: 13.0339\n",
      "Epoch 4/100\n",
      "1/1 [==============================] - 0s 6ms/step - loss: 13.0255 - mae: 13.0255\n",
      "Epoch 5/100\n",
      "1/1 [==============================] - 0s 8ms/step - loss: 13.0171 - mae: 13.0171\n",
      "Epoch 6/100\n",
      "1/1 [==============================] - 0s 5ms/step - loss: 13.0087 - mae: 13.0087\n",
      "Epoch 7/100\n",
      "1/1 [==============================] - 0s 9ms/step - loss: 13.0007 - mae: 13.0007\n",
      "Epoch 8/100\n",
      "1/1 [==============================] - 0s 5ms/step - loss: 12.9923 - mae: 12.9923\n",
      "Epoch 9/100\n",
      "1/1 [==============================] - 0s 9ms/step - loss: 12.9841 - mae: 12.9841\n",
      "Epoch 10/100\n",
      "1/1 [==============================] - 0s 6ms/step - loss: 12.9756 - mae: 12.9756\n",
      "Epoch 11/100\n",
      "1/1 [==============================] - 0s 8ms/step - loss: 12.9674 - mae: 12.9674\n",
      "Epoch 12/100\n",
      "1/1 [==============================] - 0s 6ms/step - loss: 12.9590 - mae: 12.9590\n",
      "Epoch 13/100\n",
      "1/1 [==============================] - 0s 8ms/step - loss: 12.9509 - mae: 12.9509\n",
      "Epoch 14/100\n",
      "1/1 [==============================] - 0s 7ms/step - loss: 12.9428 - mae: 12.9428\n",
      "Epoch 15/100\n",
      "1/1 [==============================] - 0s 5ms/step - loss: 12.9342 - mae: 12.9342\n",
      "Epoch 16/100\n",
      "1/1 [==============================] - 0s 6ms/step - loss: 12.9259 - mae: 12.9259\n",
      "Epoch 17/100\n",
      "1/1 [==============================] - 0s 9ms/step - loss: 12.9175 - mae: 12.9175\n",
      "Epoch 18/100\n",
      "1/1 [==============================] - 0s 8ms/step - loss: 12.9093 - mae: 12.9093\n",
      "Epoch 19/100\n",
      "1/1 [==============================] - 0s 6ms/step - loss: 12.9010 - mae: 12.9010\n",
      "Epoch 20/100\n",
      "1/1 [==============================] - 0s 6ms/step - loss: 12.8928 - mae: 12.8928\n",
      "Epoch 21/100\n",
      "1/1 [==============================] - 0s 6ms/step - loss: 12.8844 - mae: 12.8844\n",
      "Epoch 22/100\n",
      "1/1 [==============================] - 0s 7ms/step - loss: 12.8762 - mae: 12.8762\n",
      "Epoch 23/100\n",
      "1/1 [==============================] - 0s 9ms/step - loss: 12.8677 - mae: 12.8677\n",
      "Epoch 24/100\n",
      "1/1 [==============================] - 0s 5ms/step - loss: 12.8595 - mae: 12.8595\n",
      "Epoch 25/100\n",
      "1/1 [==============================] - 0s 6ms/step - loss: 12.8515 - mae: 12.8515\n",
      "Epoch 26/100\n",
      "1/1 [==============================] - 0s 6ms/step - loss: 12.8430 - mae: 12.8430\n",
      "Epoch 27/100\n",
      "1/1 [==============================] - 0s 6ms/step - loss: 12.8346 - mae: 12.8346\n",
      "Epoch 28/100\n",
      "1/1 [==============================] - 0s 5ms/step - loss: 12.8262 - mae: 12.8262\n",
      "Epoch 29/100\n",
      "1/1 [==============================] - 0s 5ms/step - loss: 12.8180 - mae: 12.8180\n",
      "Epoch 30/100\n",
      "1/1 [==============================] - 0s 5ms/step - loss: 12.8097 - mae: 12.8097\n",
      "Epoch 31/100\n",
      "1/1 [==============================] - 0s 6ms/step - loss: 12.8014 - mae: 12.8014\n",
      "Epoch 32/100\n",
      "1/1 [==============================] - 0s 6ms/step - loss: 12.7930 - mae: 12.7930\n",
      "Epoch 33/100\n",
      "1/1 [==============================] - 0s 6ms/step - loss: 12.7847 - mae: 12.7847\n",
      "Epoch 34/100\n",
      "1/1 [==============================] - 0s 7ms/step - loss: 12.7765 - mae: 12.7765\n",
      "Epoch 35/100\n",
      "1/1 [==============================] - 0s 7ms/step - loss: 12.7682 - mae: 12.7682\n",
      "Epoch 36/100\n",
      "1/1 [==============================] - 0s 8ms/step - loss: 12.7597 - mae: 12.7597\n",
      "Epoch 37/100\n",
      "1/1 [==============================] - 0s 6ms/step - loss: 12.7516 - mae: 12.7516\n",
      "Epoch 38/100\n",
      "1/1 [==============================] - 0s 8ms/step - loss: 12.7432 - mae: 12.7432\n",
      "Epoch 39/100\n",
      "1/1 [==============================] - 0s 4ms/step - loss: 12.7347 - mae: 12.7347\n",
      "Epoch 40/100\n",
      "1/1 [==============================] - 0s 8ms/step - loss: 12.7266 - mae: 12.7266\n",
      "Epoch 41/100\n",
      "1/1 [==============================] - 0s 5ms/step - loss: 12.7182 - mae: 12.7182\n",
      "Epoch 42/100\n",
      "1/1 [==============================] - 0s 6ms/step - loss: 12.7099 - mae: 12.7099\n",
      "Epoch 43/100\n",
      "1/1 [==============================] - 0s 6ms/step - loss: 12.7017 - mae: 12.7017\n",
      "Epoch 44/100\n",
      "1/1 [==============================] - 0s 9ms/step - loss: 12.6930 - mae: 12.6930\n",
      "Epoch 45/100\n",
      "1/1 [==============================] - 0s 7ms/step - loss: 12.6850 - mae: 12.6850\n",
      "Epoch 46/100\n",
      "1/1 [==============================] - 0s 8ms/step - loss: 12.6766 - mae: 12.6766\n",
      "Epoch 47/100\n",
      "1/1 [==============================] - 0s 7ms/step - loss: 12.6681 - mae: 12.6681\n",
      "Epoch 48/100\n",
      "1/1 [==============================] - 0s 6ms/step - loss: 12.6600 - mae: 12.6600\n",
      "Epoch 49/100\n",
      "1/1 [==============================] - 0s 5ms/step - loss: 12.6516 - mae: 12.6516\n",
      "Epoch 50/100\n",
      "1/1 [==============================] - 0s 6ms/step - loss: 12.6431 - mae: 12.6431\n",
      "Epoch 51/100\n",
      "1/1 [==============================] - 0s 7ms/step - loss: 12.6349 - mae: 12.6349\n",
      "Epoch 52/100\n",
      "1/1 [==============================] - 0s 6ms/step - loss: 12.6266 - mae: 12.6266\n",
      "Epoch 53/100\n",
      "1/1 [==============================] - 0s 5ms/step - loss: 12.6180 - mae: 12.6180\n",
      "Epoch 54/100\n",
      "1/1 [==============================] - 0s 4ms/step - loss: 12.6100 - mae: 12.6100\n",
      "Epoch 55/100\n",
      "1/1 [==============================] - 0s 6ms/step - loss: 12.6015 - mae: 12.6015\n",
      "Epoch 56/100\n",
      "1/1 [==============================] - 0s 8ms/step - loss: 12.5932 - mae: 12.5932\n",
      "Epoch 57/100\n",
      "1/1 [==============================] - 0s 7ms/step - loss: 12.5848 - mae: 12.5848\n",
      "Epoch 58/100\n",
      "1/1 [==============================] - 0s 7ms/step - loss: 12.5764 - mae: 12.5764\n",
      "Epoch 59/100\n",
      "1/1 [==============================] - 0s 5ms/step - loss: 12.5683 - mae: 12.5683\n",
      "Epoch 60/100\n",
      "1/1 [==============================] - 0s 9ms/step - loss: 12.5599 - mae: 12.5599\n",
      "Epoch 61/100\n",
      "1/1 [==============================] - 0s 6ms/step - loss: 12.5517 - mae: 12.5517\n",
      "Epoch 62/100\n",
      "1/1 [==============================] - 0s 7ms/step - loss: 12.5431 - mae: 12.5431\n",
      "Epoch 63/100\n",
      "1/1 [==============================] - 0s 6ms/step - loss: 12.5346 - mae: 12.5346\n",
      "Epoch 64/100\n",
      "1/1 [==============================] - 0s 6ms/step - loss: 12.5263 - mae: 12.5263\n",
      "Epoch 65/100\n",
      "1/1 [==============================] - 0s 6ms/step - loss: 12.5180 - mae: 12.5180\n",
      "Epoch 66/100\n",
      "1/1 [==============================] - 0s 5ms/step - loss: 12.5101 - mae: 12.5101\n",
      "Epoch 67/100\n",
      "1/1 [==============================] - 0s 6ms/step - loss: 12.5014 - mae: 12.5014\n",
      "Epoch 68/100\n",
      "1/1 [==============================] - 0s 5ms/step - loss: 12.4929 - mae: 12.4929\n",
      "Epoch 69/100\n",
      "1/1 [==============================] - 0s 5ms/step - loss: 12.4845 - mae: 12.4845\n",
      "Epoch 70/100\n",
      "1/1 [==============================] - 0s 7ms/step - loss: 12.4761 - mae: 12.4761\n",
      "Epoch 71/100\n",
      "1/1 [==============================] - 0s 6ms/step - loss: 12.4681 - mae: 12.4681\n",
      "Epoch 72/100\n",
      "1/1 [==============================] - 0s 6ms/step - loss: 12.4597 - mae: 12.4597\n",
      "Epoch 73/100\n",
      "1/1 [==============================] - 0s 5ms/step - loss: 12.4513 - mae: 12.4513\n",
      "Epoch 74/100\n",
      "1/1 [==============================] - 0s 6ms/step - loss: 12.4428 - mae: 12.4428\n",
      "Epoch 75/100\n",
      "1/1 [==============================] - 0s 5ms/step - loss: 12.4344 - mae: 12.4344\n",
      "Epoch 76/100\n",
      "1/1 [==============================] - 0s 5ms/step - loss: 12.4261 - mae: 12.4261\n",
      "Epoch 77/100\n",
      "1/1 [==============================] - 0s 6ms/step - loss: 12.4180 - mae: 12.4180\n",
      "Epoch 78/100\n",
      "1/1 [==============================] - 0s 6ms/step - loss: 12.4096 - mae: 12.4096\n",
      "Epoch 79/100\n",
      "1/1 [==============================] - 0s 4ms/step - loss: 12.4011 - mae: 12.4011\n",
      "Epoch 80/100\n",
      "1/1 [==============================] - 0s 6ms/step - loss: 12.3926 - mae: 12.3926\n",
      "Epoch 81/100\n",
      "1/1 [==============================] - 0s 6ms/step - loss: 12.3843 - mae: 12.3843\n",
      "Epoch 82/100\n",
      "1/1 [==============================] - 0s 5ms/step - loss: 12.3761 - mae: 12.3761\n",
      "Epoch 83/100\n",
      "1/1 [==============================] - 0s 5ms/step - loss: 12.3679 - mae: 12.3679\n",
      "Epoch 84/100\n",
      "1/1 [==============================] - 0s 6ms/step - loss: 12.3594 - mae: 12.3594\n",
      "Epoch 85/100\n",
      "1/1 [==============================] - 0s 6ms/step - loss: 12.3508 - mae: 12.3508\n",
      "Epoch 86/100\n",
      "1/1 [==============================] - 0s 5ms/step - loss: 12.3425 - mae: 12.3425\n",
      "Epoch 87/100\n",
      "1/1 [==============================] - 0s 5ms/step - loss: 12.3342 - mae: 12.3342\n",
      "Epoch 88/100\n",
      "1/1 [==============================] - 0s 6ms/step - loss: 12.3259 - mae: 12.3259\n",
      "Epoch 89/100\n",
      "1/1 [==============================] - 0s 5ms/step - loss: 12.3176 - mae: 12.3176\n",
      "Epoch 90/100\n",
      "1/1 [==============================] - 0s 6ms/step - loss: 12.3091 - mae: 12.3091\n",
      "Epoch 91/100\n",
      "1/1 [==============================] - 0s 8ms/step - loss: 12.3006 - mae: 12.3006\n",
      "Epoch 92/100\n",
      "1/1 [==============================] - 0s 5ms/step - loss: 12.2922 - mae: 12.2922\n",
      "Epoch 93/100\n",
      "1/1 [==============================] - 0s 9ms/step - loss: 12.2839 - mae: 12.2839\n",
      "Epoch 94/100\n",
      "1/1 [==============================] - 0s 5ms/step - loss: 12.2755 - mae: 12.2755\n",
      "Epoch 95/100\n",
      "1/1 [==============================] - 0s 6ms/step - loss: 12.2673 - mae: 12.2673\n",
      "Epoch 96/100\n",
      "1/1 [==============================] - 0s 6ms/step - loss: 12.2588 - mae: 12.2588\n",
      "Epoch 97/100\n",
      "1/1 [==============================] - 0s 5ms/step - loss: 12.2503 - mae: 12.2503\n",
      "Epoch 98/100\n",
      "1/1 [==============================] - 0s 6ms/step - loss: 12.2418 - mae: 12.2418\n",
      "Epoch 99/100\n",
      "1/1 [==============================] - 0s 5ms/step - loss: 12.2336 - mae: 12.2336\n",
      "Epoch 100/100\n",
      "1/1 [==============================] - 0s 5ms/step - loss: 12.2250 - mae: 12.2250\n"
     ]
    },
    {
     "data": {
      "text/plain": [
       "<keras.callbacks.History at 0x1e5c31defe0>"
      ]
     },
     "execution_count": 176,
     "metadata": {},
     "output_type": "execute_result"
    }
   ],
   "source": [
    "# Let's see if we can improve the model further \n",
    "\n",
    "#1. Create the model\n",
    "model = tf.keras.Sequential([\n",
    "    tf.keras.layers.Dense(100, activation = 'relu'),\n",
    "    tf.keras.layers.Dense(1)\n",
    "]) \n",
    "\n",
    "#2. Compile the model\n",
    "model.compile(loss = 'mae',\n",
    "              optimizer = tf.keras.optimizers.Adam(lr = 0.0001),\n",
    "              metrics = ['mae'])\n",
    "\n",
    "#3. Fit the model\n",
    "model.fit(x, y, epochs = 100)"
   ]
  },
  {
   "cell_type": "code",
   "execution_count": 177,
   "id": "5346e3c7-df31-42fc-98f9-cdd8c977acdc",
   "metadata": {},
   "outputs": [
    {
     "name": "stdout",
     "output_type": "stream",
     "text": [
      "1/1 [==============================] - 0s 69ms/step\n"
     ]
    },
    {
     "data": {
      "text/plain": [
       "array([[4.074175]], dtype=float32)"
      ]
     },
     "execution_count": 177,
     "metadata": {},
     "output_type": "execute_result"
    }
   ],
   "source": [
    "model.predict([17.0])"
   ]
  },
  {
   "cell_type": "markdown",
   "id": "be8fcf26-06cc-4256-94c9-c6d0a92b386f",
   "metadata": {},
   "source": [
    "# Common ways to improve the model - \n",
    "\n",
    "### Adding layers\n",
    "### Increase the number of hidden layers\n",
    "### Change the activation functions\n",
    "### Change the optimization function\n",
    "### Change the learning rate\n",
    "### Fitting on more data\n",
    "### Fitting for longer|"
   ]
  },
  {
   "cell_type": "markdown",
   "id": "41914e4d-bd8a-44a5-ac04-e3bd9075ec6c",
   "metadata": {},
   "source": [
    "# Evaluating a model \n",
    "\n",
    "### In practical a typical workflow of building a neural network is - \n",
    "### build a model- fit it- evaluate it- tweak a model- fit it- evaluate it"
   ]
  },
  {
   "cell_type": "code",
   "execution_count": 178,
   "id": "a8c63aa8-6a34-47d2-ab32-7c8adadd14b6",
   "metadata": {},
   "outputs": [
    {
     "data": {
      "text/plain": [
       "<tf.Tensor: shape=(50,), dtype=int32, numpy=\n",
       "array([-100,  -96,  -92,  -88,  -84,  -80,  -76,  -72,  -68,  -64,  -60,\n",
       "        -56,  -52,  -48,  -44,  -40,  -36,  -32,  -28,  -24,  -20,  -16,\n",
       "        -12,   -8,   -4,    0,    4,    8,   12,   16,   20,   24,   28,\n",
       "         32,   36,   40,   44,   48,   52,   56,   60,   64,   68,   72,\n",
       "         76,   80,   84,   88,   92,   96])>"
      ]
     },
     "execution_count": 178,
     "metadata": {},
     "output_type": "execute_result"
    }
   ],
   "source": [
    "# Make a bigger dataset \n",
    "x = tf.range(-100, 100, 4)\n",
    "x"
   ]
  },
  {
   "cell_type": "code",
   "execution_count": 179,
   "id": "e8182cbf-e257-45f1-9c34-cf4be38a1626",
   "metadata": {
    "scrolled": true
   },
   "outputs": [
    {
     "data": {
      "text/plain": [
       "<tf.Tensor: shape=(50,), dtype=int32, numpy=\n",
       "array([-90, -86, -82, -78, -74, -70, -66, -62, -58, -54, -50, -46, -42,\n",
       "       -38, -34, -30, -26, -22, -18, -14, -10,  -6,  -2,   2,   6,  10,\n",
       "        14,  18,  22,  26,  30,  34,  38,  42,  46,  50,  54,  58,  62,\n",
       "        66,  70,  74,  78,  82,  86,  90,  94,  98, 102, 106])>"
      ]
     },
     "execution_count": 179,
     "metadata": {},
     "output_type": "execute_result"
    }
   ],
   "source": [
    "# Make labels for the dataset \n",
    "y = x + 10\n",
    "y"
   ]
  },
  {
   "cell_type": "code",
   "execution_count": 180,
   "id": "dd301fb0-a770-42f9-8f12-cde8687ca594",
   "metadata": {},
   "outputs": [
    {
     "data": {
      "image/png": "[encoded data removed]",
      "text/plain": [
       "<Figure size 640x480 with 1 Axes>"
      ]
     },
     "metadata": {},
     "output_type": "display_data"
    }
   ],
   "source": [
    "plt.scatter(x, y)\n",
    "plt.show()"
   ]
  },
  {
   "cell_type": "markdown",
   "id": "1221f35d-e837-4ece-8629-ef7ed2e22b28",
   "metadata": {},
   "source": [
    "# The main reason to visualize the data is for - \n",
    "\n",
    "### The data- what data are we working with ? and what does it look like?\n",
    "### The model itself- what does out model look like?\n",
    "### The prediction of the model- how do the predictions of a model line up against the actual data "
   ]
  },
  {
   "cell_type": "code",
   "execution_count": 181,
   "id": "a4ad2311-1271-4b42-9082-f2f94ebc848d",
   "metadata": {},
   "outputs": [
    {
     "data": {
      "text/plain": [
       "50"
      ]
     },
     "execution_count": 181,
     "metadata": {},
     "output_type": "execute_result"
    }
   ],
   "source": [
    "# check the length of the samples\n",
    "len(x)"
   ]
  },
  {
   "cell_type": "code",
   "execution_count": 182,
   "id": "813dac85-67a5-4779-9079-8a4e54e5e50b",
   "metadata": {},
   "outputs": [
    {
     "data": {
      "text/plain": [
       "(40, 40, 10, 10)"
      ]
     },
     "execution_count": 182,
     "metadata": {},
     "output_type": "execute_result"
    }
   ],
   "source": [
    "# split the data into train and test\n",
    "x_train = x[:40]\n",
    "y_train = y[:40]\n",
    "\n",
    "x_test = x[40:]\n",
    "y_test = y[40:]\n",
    "\n",
    "len(x_train), len(y_train), len(x_test), len(y_test)"
   ]
  },
  {
   "cell_type": "code",
   "execution_count": 183,
   "id": "d4563889-4b2a-49eb-ade9-4a3ee1a87ccb",
   "metadata": {},
   "outputs": [
    {
     "data": {
      "image/png": "[encoded data removed]",
      "text/plain": [
       "<Figure size 1000x700 with 1 Axes>"
      ]
     },
     "metadata": {},
     "output_type": "display_data"
    }
   ],
   "source": [
    "# Visualize the train and test data\n",
    "\n",
    "plt.figure(figsize = (10, 7))\n",
    "plt.scatter(x_train, y_train, c = \"b\", label = 'Training data')\n",
    "plt.scatter(x_test, y_test, c = \"r\", label = 'Testing data')\n",
    "plt.legend()\n",
    "plt.grid(True)\n",
    "plt.show()"
   ]
  },
  {
   "cell_type": "code",
   "execution_count": 184,
   "id": "26722e21-190e-4004-8f84-17f7cf703842",
   "metadata": {},
   "outputs": [],
   "source": [
    "# 1.Create a model \n",
    "model = tf.keras.Sequential([\n",
    "    tf.keras.layers.Dense(1)\n",
    "])\n",
    "\n",
    "# 2.Compile the model \n",
    "model.compile(loss = tf.keras.losses.mae,\n",
    "              optimizer = tf.keras.optimizers.SGD(),\n",
    "              metrics = ['mae'])\n",
    "\n",
    "# 3.Fit the model \n",
    "# model.fit(x_train, y_train, epochs = 100)"
   ]
  },
  {
   "cell_type": "code",
   "execution_count": 185,
   "id": "f1d050c0-b484-4510-be5c-759e8eabefb6",
   "metadata": {},
   "outputs": [
    {
     "data": {
      "text/plain": [
       "<tf.Tensor: shape=(), dtype=int32, numpy=-100>"
      ]
     },
     "execution_count": 185,
     "metadata": {},
     "output_type": "execute_result"
    }
   ],
   "source": [
    "x[0]"
   ]
  },
  {
   "cell_type": "code",
   "execution_count": 186,
   "id": "c81d41c4-16ea-479a-a972-331a69a79764",
   "metadata": {},
   "outputs": [],
   "source": [
    "tf.random.set_seed(42)\n",
    "\n",
    "# 1.Create a model \n",
    "model = tf.keras.Sequential([\n",
    "    tf.keras.layers.Dense(100, input_shape = [1]),\n",
    "    tf.keras.layers.Dense(100, input_shape = [1]),\n",
    "    tf.keras.layers.Dense(100, input_shape = [1]),\n",
    "    tf.keras.layers.Dense(100, input_shape = [1]),\n",
    "    tf.keras.layers.Dense(100, input_shape = [1]),\n",
    "    tf.keras.layers.Dense(1, name = 'output_layer')\n",
    "])\n",
    "\n",
    "# 2.Compile the model \n",
    "model.compile(loss = tf.keras.losses.mae,\n",
    "              optimizer = tf.keras.optimizers.Adam(lr=0.0001),\n",
    "              metrics = ['mae'])"
   ]
  },
  {
   "cell_type": "code",
   "execution_count": 187,
   "id": "1e18b9e1-9fba-4300-b462-a79618db57db",
   "metadata": {},
   "outputs": [
    {
     "name": "stdout",
     "output_type": "stream",
     "text": [
      "Model: \"sequential_26\"\n",
      "_________________________________________________________________\n",
      " Layer (type)                Output Shape              Param #   \n",
      "=================================================================\n",
      " dense_41 (Dense)            (None, 100)               200       \n",
      "                                                                 \n",
      " dense_42 (Dense)            (None, 100)               10100     \n",
      "                                                                 \n",
      " dense_43 (Dense)            (None, 100)               10100     \n",
      "                                                                 \n",
      " dense_44 (Dense)            (None, 100)               10100     \n",
      "                                                                 \n",
      " dense_45 (Dense)            (None, 100)               10100     \n",
      "                                                                 \n",
      " output_layer (Dense)        (None, 1)                 101       \n",
      "                                                                 \n",
      "=================================================================\n",
      "Total params: 40,701\n",
      "Trainable params: 40,701\n",
      "Non-trainable params: 0\n",
      "_________________________________________________________________\n"
     ]
    }
   ],
   "source": [
    "model.summary()"
   ]
  },
  {
   "cell_type": "markdown",
   "id": "428b5a70-0af5-42d9-aadb-9e827166cec4",
   "metadata": {},
   "source": [
    "### Total params- total number of paramets in the model\n",
    "### Trainable params- these are the parameters (patterns) the model can update as it trains\n",
    "### Non-traibable params- these parameters aren't updated during training"
   ]
  },
  {
   "cell_type": "code",
   "execution_count": 188,
   "id": "c4f38d93-f042-4d99-a435-aa797bf747a7",
   "metadata": {},
   "outputs": [
    {
     "data": {
      "text/plain": [
       "<keras.callbacks.History at 0x1e5bd625780>"
      ]
     },
     "execution_count": 188,
     "metadata": {},
     "output_type": "execute_result"
    }
   ],
   "source": [
    "# 3.Fit the model \n",
    "model.fit(x_train, y_train, epochs = 100, verbose = 0) # verbose shows/hides the model train. Verbose 0 = silent, 1 = progress, 2 = one line per epoch "
   ]
  },
  {
   "cell_type": "code",
   "execution_count": 189,
   "id": "f2dfcc0a-373f-46a0-bac3-8ae85d09fa0e",
   "metadata": {},
   "outputs": [
    {
     "name": "stdout",
     "output_type": "stream",
     "text": [
      "1/1 [==============================] - 0s 91ms/step\n"
     ]
    },
    {
     "data": {
      "text/plain": [
       "array([[16.253454]], dtype=float32)"
      ]
     },
     "execution_count": 189,
     "metadata": {},
     "output_type": "execute_result"
    }
   ],
   "source": [
    "model.predict([17])"
   ]
  },
  {
   "cell_type": "code",
   "execution_count": 190,
   "id": "53a19284-efbc-44f6-a8db-9fd7fccb81a1",
   "metadata": {},
   "outputs": [],
   "source": [
    "from tensorflow.keras.utils import plot_model"
   ]
  },
  {
   "cell_type": "code",
   "execution_count": 191,
   "id": "5ad08381-4cea-47f1-affa-8403f84e1ab1",
   "metadata": {
    "scrolled": true
   },
   "outputs": [
    {
     "data": {
      "image/png": "[encoded data removed]",
      "text/plain": [
       "<IPython.core.display.Image object>"
      ]
     },
     "execution_count": 191,
     "metadata": {},
     "output_type": "execute_result"
    }
   ],
   "source": [
    "plot_model(model = model, show_shapes = True)"
   ]
  },
  {
   "cell_type": "markdown",
   "id": "a04503eb-05f2-4f36-a1c1-7933cf97e3da",
   "metadata": {},
   "source": [
    "### Visualizing the models prediction "
   ]
  },
  {
   "cell_type": "code",
   "execution_count": 192,
   "id": "1ef749ac-a795-4cfe-95da-6384d6b7a9d2",
   "metadata": {},
   "outputs": [
    {
     "name": "stdout",
     "output_type": "stream",
     "text": [
      "1/1 [==============================] - 0s 21ms/step\n"
     ]
    },
    {
     "data": {
      "text/plain": [
       "array([[54.43665 ],\n",
       "       [57.96841 ],\n",
       "       [61.532486],\n",
       "       [65.112366],\n",
       "       [68.64002 ],\n",
       "       [72.19378 ],\n",
       "       [75.75848 ],\n",
       "       [79.30395 ],\n",
       "       [82.85897 ],\n",
       "       [86.39521 ]], dtype=float32)"
      ]
     },
     "execution_count": 192,
     "metadata": {},
     "output_type": "execute_result"
    }
   ],
   "source": [
    "y_pred = model.predict(x_test)\n",
    "y_pred"
   ]
  },
  {
   "cell_type": "code",
   "execution_count": 193,
   "id": "30d0a759-c725-4053-b205-86b88a07aea8",
   "metadata": {},
   "outputs": [
    {
     "data": {
      "image/png": "[encoded data removed]",
      "text/plain": [
       "<Figure size 1000x700 with 1 Axes>"
      ]
     },
     "metadata": {},
     "output_type": "display_data"
    }
   ],
   "source": [
    "def plot_predictions(train_data = x_train,\n",
    "                     train_label = y_train,\n",
    "                     test_data = x_test,\n",
    "                     test_label = y_test,\n",
    "                     predictions = y_pred):\n",
    "    plt.figure(figsize = (10, 7))\n",
    "    plt.scatter(train_data, train_label, c = \"b\", label = 'Training data')\n",
    "    plt.scatter(test_data, test_label, c = \"g\", label = 'Testing data')\n",
    "    plt.scatter(test_data, predictions, c = \"r\", label = \"Predictions\")\n",
    "    plt.legend()\n",
    "    plt.grid(True)\n",
    "    plt.show()\n",
    "plot_predictions(train_data = x_train,\n",
    "                train_label = y_train,\n",
    "                test_data = x_test,\n",
    "                test_label = y_test,\n",
    "                predictions = y_pred)"
   ]
  },
  {
   "cell_type": "markdown",
   "id": "26c1c5b7-dfbd-4498-814f-eb8e1c803541",
   "metadata": {},
   "source": [
    "### Evaluating the model using the evaluation metrics"
   ]
  },
  {
   "cell_type": "code",
   "execution_count": 194,
   "id": "0e361170-1ad0-4d1f-994b-1547b608488b",
   "metadata": {},
   "outputs": [
    {
     "data": {
      "text/plain": [
       "<tf.Tensor: shape=(10,), dtype=float32, numpy=\n",
       "array([33.56335 , 30.03159 , 26.467514, 22.887634, 19.359978, 16.244976,\n",
       "       13.744914, 11.878421, 10.628206, 10.      ], dtype=float32)>"
      ]
     },
     "execution_count": 194,
     "metadata": {},
     "output_type": "execute_result"
    }
   ],
   "source": [
    "# Calculating the mean absolute error\n",
    "\n",
    "mae = tf.metrics.mean_absolute_error(y_true = y_test, y_pred = y_pred)\n",
    "mae"
   ]
  },
  {
   "cell_type": "code",
   "execution_count": 195,
   "id": "42df5f8b-a0d1-4291-9dee-60860f822cfd",
   "metadata": {},
   "outputs": [
    {
     "data": {
      "text/plain": [
       "<tf.Tensor: shape=(10, 10), dtype=bool, numpy=\n",
       "array([[False, False, False, False, False, False, False, False, False,\n",
       "        False],\n",
       "       [False, False, False, False, False, False, False, False, False,\n",
       "        False],\n",
       "       [False, False, False, False, False, False, False, False, False,\n",
       "        False],\n",
       "       [False, False, False, False, False, False, False, False, False,\n",
       "        False],\n",
       "       [False, False, False, False, False, False, False, False, False,\n",
       "        False],\n",
       "       [False, False, False, False, False, False, False, False, False,\n",
       "        False],\n",
       "       [False, False, False, False, False, False, False, False, False,\n",
       "        False],\n",
       "       [False, False, False, False, False, False, False, False, False,\n",
       "        False],\n",
       "       [False, False, False,  True, False, False, False, False, False,\n",
       "        False],\n",
       "       [False, False, False, False,  True, False, False, False, False,\n",
       "        False]])>"
      ]
     },
     "execution_count": 195,
     "metadata": {},
     "output_type": "execute_result"
    }
   ],
   "source": [
    "y_pred - y_test == 0"
   ]
  },
  {
   "cell_type": "code",
   "execution_count": 196,
   "id": "e9b12879-4df0-49d9-bb00-e92dd1fa9ba3",
   "metadata": {},
   "outputs": [
    {
     "data": {
      "text/plain": [
       "<tf.Tensor: shape=(10,), dtype=float32, numpy=\n",
       "array([54.43665 , 57.96841 , 61.532486, 65.112366, 68.64002 , 72.19378 ,\n",
       "       75.75848 , 79.30395 , 82.85897 , 86.39521 ], dtype=float32)>"
      ]
     },
     "execution_count": 196,
     "metadata": {},
     "output_type": "execute_result"
    }
   ],
   "source": [
    "tf.squeeze(y_pred)"
   ]
  },
  {
   "cell_type": "code",
   "execution_count": 197,
   "id": "37fe3567-46b7-453b-893d-313c30f86294",
   "metadata": {},
   "outputs": [
    {
     "data": {
      "text/plain": [
       "<tf.Tensor: shape=(), dtype=float32, numpy=17.579967>"
      ]
     },
     "execution_count": 197,
     "metadata": {},
     "output_type": "execute_result"
    }
   ],
   "source": [
    "# Calculate the mean absolute error\n",
    "\n",
    "mae = tf.metrics.mean_absolute_error(y_true = y_test, y_pred = tf.squeeze(y_pred))\n",
    "mae"
   ]
  },
  {
   "cell_type": "code",
   "execution_count": 198,
   "id": "e106e600-c13a-4c59-98cd-c72f043e269b",
   "metadata": {},
   "outputs": [
    {
     "data": {
      "text/plain": [
       "<tf.Tensor: shape=(), dtype=float32, numpy=310.70535>"
      ]
     },
     "execution_count": 198,
     "metadata": {},
     "output_type": "execute_result"
    }
   ],
   "source": [
    "# Calculate the mean square error \n",
    "\n",
    "mse = tf.metrics.mean_squared_error(y_true = y_test, y_pred = tf.squeeze(y_pred))\n",
    "mse"
   ]
  },
  {
   "cell_type": "code",
   "execution_count": 199,
   "id": "73c9c455-b883-4a2e-bd89-0bea7506953c",
   "metadata": {},
   "outputs": [],
   "source": [
    "# Make some function to reuse MAE and MSE\n",
    "\n",
    "def mae(y_true, y_pred):\n",
    "    return tf.metrics.mean_absolute_error(y_true = y_test, y_pred = y_pred)\n",
    "\n",
    "def mse(y_true, y_pred):        \n",
    "    return tf.metrics.mean_squared_error(y_true = y_test, y_pred = y_pred)"
   ]
  },
  {
   "cell_type": "markdown",
   "id": "0b528904-5e7a-4342-b829-8c92388b1d41",
   "metadata": {},
   "source": [
    "# Running some experiments to improve the model\n",
    "\n",
    "### 1. Get more data\n",
    "### 2. Make your model larger \n",
    "### 3. Train for longer \n"
   ]
  },
  {
   "cell_type": "markdown",
   "id": "89796668-9db3-4372-a412-6f23aabbc57c",
   "metadata": {},
   "source": [
    "# Saving the model \n",
    "\n",
    "### there are two methods to save the model\n",
    "### 1. The SavedModel format\n",
    "### 2. The HDF5 format"
   ]
  },
  {
   "cell_type": "code",
   "execution_count": 205,
   "id": "fdae365b-b973-48d7-a93a-fe104cd3568b",
   "metadata": {},
   "outputs": [
    {
     "name": "stdout",
     "output_type": "stream",
     "text": [
      "INFO:tensorflow:Assets written to: ANN_Model_SaveModel_Format\\assets\n"
     ]
    }
   ],
   "source": [
    "# Save model using SavedModel format \n",
    "model.save(\"ANN_Model_SaveModel_Format\")"
   ]
  },
  {
   "cell_type": "code",
   "execution_count": 207,
   "id": "4f38b17e-8caa-4f1f-91d3-ec911ce84fd5",
   "metadata": {},
   "outputs": [],
   "source": [
    "# Save the model using HDF5 format (Hierarchical Data Format)\n",
    "model.save('ANN_model_HDF5.h5')"
   ]
  },
  {
   "cell_type": "markdown",
   "id": "99eebfd4-0abb-4aa9-9616-5e2d9d9f49ba",
   "metadata": {},
   "source": [
    "# Loading the saved model"
   ]
  },
  {
   "cell_type": "code",
   "execution_count": 209,
   "id": "657ec107-2e79-46c9-a5f6-b8615e9dd493",
   "metadata": {},
   "outputs": [
    {
     "name": "stdout",
     "output_type": "stream",
     "text": [
      "Model: \"sequential_26\"\n",
      "_________________________________________________________________\n",
      " Layer (type)                Output Shape              Param #   \n",
      "=================================================================\n",
      " dense_41 (Dense)            (None, 100)               200       \n",
      "                                                                 \n",
      " dense_42 (Dense)            (None, 100)               10100     \n",
      "                                                                 \n",
      " dense_43 (Dense)            (None, 100)               10100     \n",
      "                                                                 \n",
      " dense_44 (Dense)            (None, 100)               10100     \n",
      "                                                                 \n",
      " dense_45 (Dense)            (None, 100)               10100     \n",
      "                                                                 \n",
      " output_layer (Dense)        (None, 1)                 101       \n",
      "                                                                 \n",
      "=================================================================\n",
      "Total params: 40,701\n",
      "Trainable params: 40,701\n",
      "Non-trainable params: 0\n",
      "_________________________________________________________________\n"
     ]
    }
   ],
   "source": [
    "# Load in the savedmodel format\n",
    "loaded_savemodel_format = tf.keras.models.load_model(\"ANN_Model_SaveModel_Format\")\n",
    "loaded_savemodel_format.summary()"
   ]
  },
  {
   "cell_type": "code",
   "execution_count": 211,
   "id": "5e8a19b1-8428-4bf4-be3e-4468642cf491",
   "metadata": {},
   "outputs": [
    {
     "name": "stdout",
     "output_type": "stream",
     "text": [
      "Model: \"sequential_26\"\n",
      "_________________________________________________________________\n",
      " Layer (type)                Output Shape              Param #   \n",
      "=================================================================\n",
      " dense_41 (Dense)            (None, 100)               200       \n",
      "                                                                 \n",
      " dense_42 (Dense)            (None, 100)               10100     \n",
      "                                                                 \n",
      " dense_43 (Dense)            (None, 100)               10100     \n",
      "                                                                 \n",
      " dense_44 (Dense)            (None, 100)               10100     \n",
      "                                                                 \n",
      " dense_45 (Dense)            (None, 100)               10100     \n",
      "                                                                 \n",
      " output_layer (Dense)        (None, 1)                 101       \n",
      "                                                                 \n",
      "=================================================================\n",
      "Total params: 40,701\n",
      "Trainable params: 40,701\n",
      "Non-trainable params: 0\n",
      "_________________________________________________________________\n"
     ]
    }
   ],
   "source": [
    "# load the HDF5 format\n",
    "loaded_HDF5_format = tf.keras.models.load_model('ANN_model_HDF5.h5')\n",
    "loaded_HDF5_format.summary()"
   ]
  }
 ],
 "metadata": {
  "kernelspec": {
   "display_name": "Python 3 (ipykernel)",
   "language": "python",
   "name": "python3"
  },
  "language_info": {
   "codemirror_mode": {
    "name": "ipython",
    "version": 3
   },
   "file_extension": ".py",
   "mimetype": "text/x-python",
   "name": "python",
   "nbconvert_exporter": "python",
   "pygments_lexer": "ipython3",
   "version": "3.10.18"
  }
 },
 "nbformat": 4,
 "nbformat_minor": 5
}
