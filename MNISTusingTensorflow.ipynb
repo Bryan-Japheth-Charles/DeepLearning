{
 "cells": [
  {
   "cell_type": "markdown",
   "id": "dea528d1-918c-42ec-86b3-5a0fd09b2cd0",
   "metadata": {},
   "source": [
    "# Import all the necessary libraries"
   ]
  },
  {
   "cell_type": "code",
   "execution_count": 54,
   "id": "5de3ab81-d9b9-4b5b-95f4-44eb0dccf401",
   "metadata": {},
   "outputs": [],
   "source": [
    "import tensorflow as tf\n",
    "from tensorflow.keras.models import Sequential\n",
    "from tensorflow.keras.layers import Conv2D, MaxPooling2D, Flatten, Dense, Dropout\n",
    "from tensorflow.keras.utils import to_categorical\n",
    "from tensorflow.keras.datasets import mnist\n",
    "import matplotlib.pyplot as plt"
   ]
  },
  {
   "cell_type": "markdown",
   "id": "aa1f0f75-0f18-492c-a651-f418fd3a93f4",
   "metadata": {},
   "source": [
    "# Load MNIST dataset (handwritten digits)"
   ]
  },
  {
   "cell_type": "code",
   "execution_count": 55,
   "id": "b65ca4b1-47d6-4829-bd60-869fdf7fe6fb",
   "metadata": {},
   "outputs": [
    {
     "name": "stdout",
     "output_type": "stream",
     "text": [
      "Train shape: (60000, 28, 28)\n",
      "Test shape: (10000, 28, 28)\n"
     ]
    }
   ],
   "source": [
    "(x_train, y_train), (x_test, y_test) = mnist.load_data()\n",
    "print(\"Train shape:\", x_train.shape)\n",
    "print(\"Test shape:\", x_test.shape)"
   ]
  },
  {
   "cell_type": "markdown",
   "id": "e772ba9e-adba-437c-a113-db440ced8df9",
   "metadata": {},
   "source": [
    "# Preprocess the data"
   ]
  },
  {
   "cell_type": "code",
   "execution_count": 56,
   "id": "e2918240-b83a-4642-8dec-4ce1d3f34c7a",
   "metadata": {},
   "outputs": [],
   "source": [
    "x_train = x_train.reshape((x_train.shape[0], 28, 28, 1))\n",
    "x_test = x_test.reshape((x_test.shape[0], 28, 28, 1))\n",
    "\n",
    "x_train = x_train / 255.0\n",
    "x_test = x_test / 255.0\n",
    "\n",
    "y_train = to_categorical(y_train)\n",
    "y_test = to_categorical(y_test)"
   ]
  },
  {
   "cell_type": "markdown",
   "id": "1b81067e-0d7b-442a-b174-5113fabd768e",
   "metadata": {},
   "source": [
    "# Build the model"
   ]
  },
  {
   "cell_type": "code",
   "execution_count": 57,
   "id": "a13ff8c5-1d3d-4f45-ab52-68648c771a2d",
   "metadata": {},
   "outputs": [],
   "source": [
    "model = Sequential()\n",
    "model.add(Conv2D(32, (3,3), activation='relu', input_shape=(28,28,1)))\n",
    "model.add(MaxPooling2D(pool_size=(2,2)))\n",
    "model.add(Conv2D(64, (3,3), activation='relu'))\n",
    "model.add(MaxPooling2D(pool_size=(2,2)))\n",
    "model.add(Flatten())\n",
    "model.add(Dense(128, activation='relu'))\n",
    "model.add(Dropout(0.5))\n",
    "model.add(Dense(10, activation='softmax'))"
   ]
  },
  {
   "cell_type": "markdown",
   "id": "fbe5c67e-7d44-4166-9582-705b79b30d31",
   "metadata": {},
   "source": [
    "# Compile the model"
   ]
  },
  {
   "cell_type": "code",
   "execution_count": 58,
   "id": "92b392e2-3566-44d3-8c40-f65b4b898263",
   "metadata": {},
   "outputs": [],
   "source": [
    "model.compile(optimizer='adam',\n",
    "              loss='categorical_crossentropy',\n",
    "              metrics=['accuracy'])\n"
   ]
  },
  {
   "cell_type": "markdown",
   "id": "677f92e8-70e0-4ab7-b011-4ebcbc0485c6",
   "metadata": {},
   "source": [
    "# Train the model"
   ]
  },
  {
   "cell_type": "code",
   "execution_count": null,
   "id": "1b598ef8-1b34-4314-ae38-1c91c021ff8a",
   "metadata": {},
   "outputs": [
    {
     "name": "stdout",
     "output_type": "stream",
     "text": [
      "Epoch 1/5\n",
      "1500/1500 [==============================] - 8s 5ms/step - loss: 0.2372 - accuracy: 0.9277 - val_loss: 0.0563 - val_accuracy: 0.9828\n",
      "Epoch 2/5\n",
      "1500/1500 [==============================] - 8s 5ms/step - loss: 0.0872 - accuracy: 0.9744 - val_loss: 0.0487 - val_accuracy: 0.9849\n",
      "Epoch 3/5\n",
      "1500/1500 [==============================] - 8s 5ms/step - loss: 0.0642 - accuracy: 0.9816 - val_loss: 0.0408 - val_accuracy: 0.9896\n",
      "Epoch 4/5\n",
      "1500/1500 [==============================] - 7s 5ms/step - loss: 0.0502 - accuracy: 0.9844 - val_loss: 0.0344 - val_accuracy: 0.9905\n",
      "Epoch 5/5\n",
      " 843/1500 [===============>..............] - ETA: 2s - loss: 0.0424 - accuracy: 0.9871"
     ]
    }
   ],
   "source": [
    "history = model.fit(x_train, y_train, epochs=5, batch_size=32, validation_split=0.2)\n",
    "history"
   ]
  },
  {
   "cell_type": "markdown",
   "id": "3dfb7d99-cfc4-4605-a3f6-c0c51d2ace1b",
   "metadata": {},
   "source": [
    "# Evaluate on test data"
   ]
  },
  {
   "cell_type": "code",
   "execution_count": null,
   "id": "5019d85b-d851-4e6f-ac6f-d71480bdea06",
   "metadata": {},
   "outputs": [],
   "source": [
    "test_loss, test_acc = model.evaluate(x_test, y_test)\n",
    "print(\"Test Accuracy:\", test_acc)"
   ]
  },
  {
   "cell_type": "markdown",
   "id": "c1089dd2-e223-4307-b7ec-7789b57dc29e",
   "metadata": {},
   "source": [
    "# Plot training & validation accuracy and validation loss"
   ]
  },
  {
   "cell_type": "code",
   "execution_count": null,
   "id": "e6eb2581-a035-49eb-9e34-4e1cb086ad0b",
   "metadata": {},
   "outputs": [],
   "source": [
    "plt.figure(figsize=(12,5))\n",
    "\n",
    "plt.subplot(1,2,1)\n",
    "plt.plot(history.history['accuracy'], label='Train Accuracy')\n",
    "plt.plot(history.history['val_accuracy'], label='Val Accuracy')\n",
    "plt.title('Model Accuracy')\n",
    "plt.xlabel('Epoch')\n",
    "plt.ylabel('Accuracy')\n",
    "plt.legend()\n",
    "\n",
    "plt.subplot(1,2,2)\n",
    "plt.plot(history.history['loss'], label='Train Loss')\n",
    "plt.plot(history.history['val_loss'], label='Val Loss')\n",
    "plt.title('Model Loss')\n",
    "plt.xlabel('Epoch')\n",
    "plt.ylabel('Loss')\n",
    "plt.legend()\n",
    "\n",
    "plt.show()"
   ]
  },
  {
   "cell_type": "markdown",
   "id": "0c59af97-d381-47b3-a07a-5d275125d523",
   "metadata": {},
   "source": [
    "# Predictions"
   ]
  },
  {
   "cell_type": "code",
   "execution_count": null,
   "id": "4a1f3eac-474c-48a5-9dcc-f574a49c6237",
   "metadata": {},
   "outputs": [],
   "source": [
    "predictions = model.predict(x_test)\n",
    "\n",
    "predicted_classes = predictions.argmax(axis=1)\n",
    "\n",
    "print(\"First 5 Predictions:\", predicted_classes[:5])"
   ]
  },
  {
   "cell_type": "code",
   "execution_count": null,
   "id": "8c2ec3e8-dff5-46b5-b0e3-c891a82ba691",
   "metadata": {},
   "outputs": [],
   "source": [
    "plt.imshow(x_test[0].reshape(28,28), cmap='gray')\n",
    "plt.title(\"Predicted Label: {}\".format(predicted_classes[0]))\n",
    "plt.show()"
   ]
  },
  {
   "cell_type": "code",
   "execution_count": null,
   "id": "617ceb0d-ae94-4861-8f4b-1bbb5c0d0617",
   "metadata": {},
   "outputs": [],
   "source": [
    "\n",
    "import numpy as np\n",
    "import pandas as pd\n",
    "\n",
    "# ML library\n",
    "from sklearn.model_selection import train_test_split\n",
    "from sklearn.metrics import classification_report, confusion_matrix\n",
    "\n",
    "# Deep Learning libraries\n",
    "import tensorflow as tf\n",
    "from tensorflow.keras.models import Sequential\n",
    "from tensorflow.keras.layers import Conv2D, MaxPooling2D, Flatten, Dense, Dropout\n",
    "\n",
    "# Visualization libraries\n",
    "import matplotlib.pyplot as plt\n",
    "import seaborn as sns\n",
    "\n",
    "# Dataset\n",
    "from tensorflow.keras.datasets import mnist\n"
   ]
  },
  {
   "cell_type": "code",
   "execution_count": 16,
   "id": "076687e5-57e4-471b-af4d-bbf3fa72f3ad",
   "metadata": {},
   "outputs": [
    {
     "name": "stdout",
     "output_type": "stream",
     "text": [
      "Dataframe shape: (70000, 784)\n",
      "Labels dataframe shape: (70000, 1)\n"
     ]
    }
   ],
   "source": [
    "# Load MNIST data\n",
    "(x_train, y_train), (x_test, y_test) = mnist.load_data()\n",
    "\n",
    "# Combine train and test for dataframe creation (optional)\n",
    "X_total = np.concatenate((x_train, x_test), axis=0)\n",
    "y_total = np.concatenate((y_train, y_test), axis=0)\n",
    "\n",
    "# Create pandas dataframe for EDA (each row flattened)\n",
    "X_df = pd.DataFrame(X_total.reshape(X_total.shape[0], -1))\n",
    "y_df = pd.DataFrame(y_total, columns=['label'])\n",
    "\n",
    "print(\"Dataframe shape:\", X_df.shape)\n",
    "print(\"Labels dataframe shape:\", y_df.shape)\n"
   ]
  },
  {
   "cell_type": "code",
   "execution_count": 17,
   "id": "01a79069-e00c-422a-ab9f-9a735ea6f1fc",
   "metadata": {},
   "outputs": [
    {
     "data": {
      "image/png": "[encoded data removed]",
      "text/plain": [
       "<Figure size 640x480 with 1 Axes>"
      ]
     },
     "metadata": {},
     "output_type": "display_data"
    },
    {
     "data": {
      "image/png": "[encoded data removed]",
      "text/plain": [
       "<Figure size 1000x500 with 10 Axes>"
      ]
     },
     "metadata": {},
     "output_type": "display_data"
    }
   ],
   "source": [
    "# Plot distribution of labels\n",
    "sns.countplot(x=y_df['label'])\n",
    "plt.title(\"Distribution of MNIST Digits\")\n",
    "plt.show()\n",
    "\n",
    "# Show some sample images\n",
    "plt.figure(figsize=(10,5))\n",
    "for i in range(10):\n",
    "    plt.subplot(2,5,i+1)\n",
    "    plt.imshow(X_total[i], cmap='gray')\n",
    "    plt.title(\"Label: {}\".format(y_total[i]))\n",
    "    plt.axis('off')\n",
    "plt.tight_layout()\n",
    "plt.show()\n"
   ]
  },
  {
   "cell_type": "code",
   "execution_count": 18,
   "id": "336b3225-18c5-4e2a-84f6-c24d7db7e9b0",
   "metadata": {},
   "outputs": [],
   "source": [
    "# Reshape data to add channel dimension (28,28,1)\n",
    "X_total = X_total.reshape(X_total.shape[0], 28, 28, 1)\n",
    "\n",
    "# Normalize pixel values\n",
    "X_total = X_total / 255.0\n",
    "\n",
    "# One-hot encode labels\n",
    "y_total_cat = tf.keras.utils.to_categorical(y_total, num_classes=10)\n",
    "\n",
    "# Split into train and test using sklearn (80%-20%)\n",
    "X_train, X_test, y_train_cat, y_test_cat = train_test_split(\n",
    "    X_total, y_total_cat, test_size=0.2, random_state=42)\n"
   ]
  },
  {
   "cell_type": "code",
   "execution_count": 20,
   "id": "ad7b7fd0-e90e-44ae-aa1c-bdda96ef98dd",
   "metadata": {},
   "outputs": [],
   "source": [
    "model.compile(optimizer='adam',\n",
    "              loss='categorical_crossentropy',\n",
    "              metrics=['accuracy'])\n"
   ]
  }
 ],
 "metadata": {
  "kernelspec": {
   "display_name": "Python 3 (ipykernel)",
   "language": "python",
   "name": "python3"
  },
  "language_info": {
   "codemirror_mode": {
    "name": "ipython",
    "version": 3
   },
   "file_extension": ".py",
   "mimetype": "text/x-python",
   "name": "python",
   "nbconvert_exporter": "python",
   "pygments_lexer": "ipython3",
   "version": "3.10.18"
  }
 },
 "nbformat": 4,
 "nbformat_minor": 5
}
