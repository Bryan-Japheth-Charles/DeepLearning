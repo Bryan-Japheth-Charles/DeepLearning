{
 "cells": [
  {
   "cell_type": "markdown",
   "id": "5411cb72-10e4-4a29-8a0e-29b247d5ab6e",
   "metadata": {},
   "source": [
    "# Load libraries"
   ]
  },
  {
   "cell_type": "code",
   "execution_count": 46,
   "id": "79b97574-e358-4116-bea2-338f30dac0ac",
   "metadata": {},
   "outputs": [],
   "source": [
    "import pandas as pd\n",
    "from sklearn.datasets import load_iris\n",
    "from sklearn.model_selection import train_test_split\n",
    "from sklearn.preprocessing import OneHotEncoder, StandardScaler\n",
    "from tensorflow.keras.models import Sequential, load_model\n",
    "from tensorflow.keras.layers import Dense\n",
    "import pickle\n",
    "import numpy as np\n",
    "import matplotlib.pyplot as plt"
   ]
  },
  {
   "cell_type": "markdown",
   "id": "9f60ddbc-807c-4fb2-8e51-698326e8f590",
   "metadata": {},
   "source": [
    "# Load dataset"
   ]
  },
  {
   "cell_type": "code",
   "execution_count": 32,
   "id": "5b844811-f012-471b-ba1e-b71619fc2021",
   "metadata": {},
   "outputs": [],
   "source": [
    "iris = load_iris()\n",
    "X = iris.data\n",
    "y = iris.target.reshape(-1,1)"
   ]
  },
  {
   "cell_type": "markdown",
   "id": "26346636-b64f-4c73-a5de-a285cbffcd70",
   "metadata": {},
   "source": [
    "# Encode categorical labels"
   ]
  },
  {
   "cell_type": "code",
   "execution_count": 33,
   "id": "9a126857-9854-48fe-81ac-531211510e7d",
   "metadata": {},
   "outputs": [],
   "source": [
    "encoder = OneHotEncoder(sparse_output=False)\n",
    "y_encoded = encoder.fit_transform(y)"
   ]
  },
  {
   "cell_type": "markdown",
   "id": "570480c3-f25b-4389-97d8-e332aa05efe9",
   "metadata": {},
   "source": [
    "# Scale features"
   ]
  },
  {
   "cell_type": "code",
   "execution_count": 34,
   "id": "11acf528-50fa-420e-8512-c75124b03388",
   "metadata": {},
   "outputs": [],
   "source": [
    "scaler = StandardScaler()\n",
    "X_scaled = scaler.fit_transform(X)"
   ]
  },
  {
   "cell_type": "markdown",
   "id": "b2ed9d1b-0946-4032-9a8f-7332b25d28fc",
   "metadata": {},
   "source": [
    "# Split data"
   ]
  },
  {
   "cell_type": "code",
   "execution_count": 35,
   "id": "d36308ac-fa5c-420a-911e-b786643635a1",
   "metadata": {},
   "outputs": [],
   "source": [
    "X_train, X_test, y_train, y_test = train_test_split(X_scaled, y_encoded, test_size=0.2, random_state=42)"
   ]
  },
  {
   "cell_type": "markdown",
   "id": "721817c7-30c6-4f81-9af8-182859221f57",
   "metadata": {},
   "source": [
    "# Build ANN model"
   ]
  },
  {
   "cell_type": "code",
   "execution_count": 36,
   "id": "3f8cc89f-2207-410c-9c3c-70e8dd22995a",
   "metadata": {},
   "outputs": [],
   "source": [
    "model = Sequential()\n",
    "model.add(Dense(10, input_shape=(X_train.shape[1],), activation='relu'))\n",
    "model.add(Dense(8, activation='relu'))\n",
    "model.add(Dense(3, activation='softmax')) "
   ]
  },
  {
   "cell_type": "markdown",
   "id": "44c5df4b-4f2b-4dbe-8539-f2001ee9138f",
   "metadata": {},
   "source": [
    "# Compile model"
   ]
  },
  {
   "cell_type": "code",
   "execution_count": 37,
   "id": "a8a134cb-6d3b-452c-be56-a4b61a65ad76",
   "metadata": {},
   "outputs": [],
   "source": [
    "model.compile(optimizer='adam', loss='categorical_crossentropy', metrics=['accuracy'])"
   ]
  },
  {
   "cell_type": "markdown",
   "id": "713f16a9-ac28-49b3-8d84-986d79f46231",
   "metadata": {},
   "source": [
    "# Train model"
   ]
  },
  {
   "cell_type": "code",
   "execution_count": 38,
   "id": "218aa9fd-f8f1-45b0-8d4c-e5e6b5093b85",
   "metadata": {},
   "outputs": [
    {
     "name": "stdout",
     "output_type": "stream",
     "text": [
      "Epoch 1/50\n",
      "20/20 [==============================] - 1s 18ms/step - loss: 1.1311 - accuracy: 0.3333 - val_loss: 1.0605 - val_accuracy: 0.2083\n",
      "Epoch 2/50\n",
      "20/20 [==============================] - 0s 8ms/step - loss: 1.0516 - accuracy: 0.4375 - val_loss: 1.0063 - val_accuracy: 0.2083\n",
      "Epoch 3/50\n",
      "20/20 [==============================] - 0s 8ms/step - loss: 0.9800 - accuracy: 0.5312 - val_loss: 0.9539 - val_accuracy: 0.3333\n",
      "Epoch 4/50\n",
      "20/20 [==============================] - 0s 8ms/step - loss: 0.9156 - accuracy: 0.6250 - val_loss: 0.9036 - val_accuracy: 0.6667\n",
      "Epoch 5/50\n",
      "20/20 [==============================] - 0s 8ms/step - loss: 0.8524 - accuracy: 0.7917 - val_loss: 0.8489 - val_accuracy: 0.7500\n",
      "Epoch 6/50\n",
      "20/20 [==============================] - 0s 7ms/step - loss: 0.7931 - accuracy: 0.8125 - val_loss: 0.8004 - val_accuracy: 0.7500\n",
      "Epoch 7/50\n",
      "20/20 [==============================] - 0s 9ms/step - loss: 0.7366 - accuracy: 0.8333 - val_loss: 0.7549 - val_accuracy: 0.7500\n",
      "Epoch 8/50\n",
      "20/20 [==============================] - 0s 9ms/step - loss: 0.6815 - accuracy: 0.8333 - val_loss: 0.7121 - val_accuracy: 0.7500\n",
      "Epoch 9/50\n",
      "20/20 [==============================] - 0s 9ms/step - loss: 0.6318 - accuracy: 0.8438 - val_loss: 0.6803 - val_accuracy: 0.7500\n",
      "Epoch 10/50\n",
      "20/20 [==============================] - 0s 8ms/step - loss: 0.5886 - accuracy: 0.8438 - val_loss: 0.6477 - val_accuracy: 0.7500\n",
      "Epoch 11/50\n",
      "20/20 [==============================] - 0s 8ms/step - loss: 0.5528 - accuracy: 0.8438 - val_loss: 0.6142 - val_accuracy: 0.7917\n",
      "Epoch 12/50\n",
      "20/20 [==============================] - 0s 9ms/step - loss: 0.5207 - accuracy: 0.8438 - val_loss: 0.5904 - val_accuracy: 0.7917\n",
      "Epoch 13/50\n",
      "20/20 [==============================] - 0s 7ms/step - loss: 0.4953 - accuracy: 0.8438 - val_loss: 0.5695 - val_accuracy: 0.7917\n",
      "Epoch 14/50\n",
      "20/20 [==============================] - 0s 10ms/step - loss: 0.4737 - accuracy: 0.8438 - val_loss: 0.5530 - val_accuracy: 0.7917\n",
      "Epoch 15/50\n",
      "20/20 [==============================] - 0s 8ms/step - loss: 0.4548 - accuracy: 0.8438 - val_loss: 0.5428 - val_accuracy: 0.7917\n",
      "Epoch 16/50\n",
      "20/20 [==============================] - 0s 7ms/step - loss: 0.4366 - accuracy: 0.8438 - val_loss: 0.5279 - val_accuracy: 0.7500\n",
      "Epoch 17/50\n",
      "20/20 [==============================] - 0s 7ms/step - loss: 0.4229 - accuracy: 0.8438 - val_loss: 0.5166 - val_accuracy: 0.7500\n",
      "Epoch 18/50\n",
      "20/20 [==============================] - 0s 8ms/step - loss: 0.4096 - accuracy: 0.8438 - val_loss: 0.5063 - val_accuracy: 0.7500\n",
      "Epoch 19/50\n",
      "20/20 [==============================] - 0s 7ms/step - loss: 0.3970 - accuracy: 0.8438 - val_loss: 0.4993 - val_accuracy: 0.7500\n",
      "Epoch 20/50\n",
      "20/20 [==============================] - 0s 10ms/step - loss: 0.3864 - accuracy: 0.8438 - val_loss: 0.4969 - val_accuracy: 0.7500\n",
      "Epoch 21/50\n",
      "20/20 [==============================] - 0s 7ms/step - loss: 0.3754 - accuracy: 0.8438 - val_loss: 0.4961 - val_accuracy: 0.7500\n",
      "Epoch 22/50\n",
      "20/20 [==============================] - 0s 7ms/step - loss: 0.3653 - accuracy: 0.8438 - val_loss: 0.4953 - val_accuracy: 0.7500\n",
      "Epoch 23/50\n",
      "20/20 [==============================] - 0s 8ms/step - loss: 0.3571 - accuracy: 0.8333 - val_loss: 0.4910 - val_accuracy: 0.8333\n",
      "Epoch 24/50\n",
      "20/20 [==============================] - 0s 7ms/step - loss: 0.3488 - accuracy: 0.8333 - val_loss: 0.4862 - val_accuracy: 0.8333\n",
      "Epoch 25/50\n",
      "20/20 [==============================] - 0s 8ms/step - loss: 0.3421 - accuracy: 0.8333 - val_loss: 0.4791 - val_accuracy: 0.8333\n",
      "Epoch 26/50\n",
      "20/20 [==============================] - 0s 8ms/step - loss: 0.3354 - accuracy: 0.8333 - val_loss: 0.4772 - val_accuracy: 0.8333\n",
      "Epoch 27/50\n",
      "20/20 [==============================] - 0s 7ms/step - loss: 0.3281 - accuracy: 0.8333 - val_loss: 0.4752 - val_accuracy: 0.8333\n",
      "Epoch 28/50\n",
      "20/20 [==============================] - 0s 7ms/step - loss: 0.3232 - accuracy: 0.8333 - val_loss: 0.4690 - val_accuracy: 0.7917\n",
      "Epoch 29/50\n",
      "20/20 [==============================] - 0s 7ms/step - loss: 0.3178 - accuracy: 0.8438 - val_loss: 0.4687 - val_accuracy: 0.8333\n",
      "Epoch 30/50\n",
      "20/20 [==============================] - 0s 8ms/step - loss: 0.3114 - accuracy: 0.8438 - val_loss: 0.4701 - val_accuracy: 0.8333\n",
      "Epoch 31/50\n",
      "20/20 [==============================] - 0s 7ms/step - loss: 0.3069 - accuracy: 0.8438 - val_loss: 0.4727 - val_accuracy: 0.8333\n",
      "Epoch 32/50\n",
      "20/20 [==============================] - 0s 8ms/step - loss: 0.3016 - accuracy: 0.8542 - val_loss: 0.4734 - val_accuracy: 0.8333\n",
      "Epoch 33/50\n",
      "20/20 [==============================] - 0s 7ms/step - loss: 0.2989 - accuracy: 0.8542 - val_loss: 0.4713 - val_accuracy: 0.8333\n",
      "Epoch 34/50\n",
      "20/20 [==============================] - 0s 8ms/step - loss: 0.2944 - accuracy: 0.8542 - val_loss: 0.4675 - val_accuracy: 0.8333\n",
      "Epoch 35/50\n",
      "20/20 [==============================] - 0s 9ms/step - loss: 0.2890 - accuracy: 0.8438 - val_loss: 0.4648 - val_accuracy: 0.8333\n",
      "Epoch 36/50\n",
      "20/20 [==============================] - 0s 7ms/step - loss: 0.2841 - accuracy: 0.8438 - val_loss: 0.4621 - val_accuracy: 0.8333\n",
      "Epoch 37/50\n",
      "20/20 [==============================] - 0s 8ms/step - loss: 0.2807 - accuracy: 0.8438 - val_loss: 0.4606 - val_accuracy: 0.8333\n",
      "Epoch 38/50\n",
      "20/20 [==============================] - 0s 8ms/step - loss: 0.2787 - accuracy: 0.8646 - val_loss: 0.4622 - val_accuracy: 0.8333\n",
      "Epoch 39/50\n",
      "20/20 [==============================] - 0s 9ms/step - loss: 0.2729 - accuracy: 0.8646 - val_loss: 0.4532 - val_accuracy: 0.8333\n",
      "Epoch 40/50\n",
      "20/20 [==============================] - 0s 7ms/step - loss: 0.2704 - accuracy: 0.8542 - val_loss: 0.4501 - val_accuracy: 0.8333\n",
      "Epoch 41/50\n",
      "20/20 [==============================] - 0s 8ms/step - loss: 0.2655 - accuracy: 0.8646 - val_loss: 0.4565 - val_accuracy: 0.8333\n",
      "Epoch 42/50\n",
      "20/20 [==============================] - 0s 7ms/step - loss: 0.2612 - accuracy: 0.8750 - val_loss: 0.4513 - val_accuracy: 0.8333\n",
      "Epoch 43/50\n",
      "20/20 [==============================] - 0s 7ms/step - loss: 0.2573 - accuracy: 0.8750 - val_loss: 0.4487 - val_accuracy: 0.8333\n",
      "Epoch 44/50\n",
      "20/20 [==============================] - 0s 7ms/step - loss: 0.2545 - accuracy: 0.8750 - val_loss: 0.4430 - val_accuracy: 0.8333\n",
      "Epoch 45/50\n",
      "20/20 [==============================] - 0s 8ms/step - loss: 0.2500 - accuracy: 0.8750 - val_loss: 0.4454 - val_accuracy: 0.8333\n",
      "Epoch 46/50\n",
      "20/20 [==============================] - 0s 7ms/step - loss: 0.2478 - accuracy: 0.8750 - val_loss: 0.4390 - val_accuracy: 0.8333\n",
      "Epoch 47/50\n",
      "20/20 [==============================] - 0s 8ms/step - loss: 0.2432 - accuracy: 0.8854 - val_loss: 0.4378 - val_accuracy: 0.8333\n",
      "Epoch 48/50\n",
      "20/20 [==============================] - 0s 7ms/step - loss: 0.2411 - accuracy: 0.8854 - val_loss: 0.4321 - val_accuracy: 0.8333\n",
      "Epoch 49/50\n",
      "20/20 [==============================] - 0s 8ms/step - loss: 0.2377 - accuracy: 0.8854 - val_loss: 0.4354 - val_accuracy: 0.8750\n",
      "Epoch 50/50\n",
      "20/20 [==============================] - 0s 7ms/step - loss: 0.2344 - accuracy: 0.8958 - val_loss: 0.4465 - val_accuracy: 0.8750\n"
     ]
    }
   ],
   "source": [
    "history = model.fit(X_train, y_train, epochs=50, batch_size=5, validation_split=0.2)"
   ]
  },
  {
   "cell_type": "markdown",
   "id": "37246138-7b8a-4a83-99e1-705ddbfecd73",
   "metadata": {},
   "source": [
    "# Evaluate model"
   ]
  },
  {
   "cell_type": "code",
   "execution_count": 39,
   "id": "a4f1ed6e-a0fe-4e75-9478-129c2a41423a",
   "metadata": {},
   "outputs": [
    {
     "name": "stdout",
     "output_type": "stream",
     "text": [
      "1/1 [==============================] - 0s 31ms/step - loss: 0.2287 - accuracy: 0.9667\n",
      "Test Loss: 0.22869227826595306\n",
      "Test Accuracy: 0.9666666388511658\n"
     ]
    }
   ],
   "source": [
    "loss, accuracy = model.evaluate(X_test, y_test)\n",
    "print(\"Test Loss:\", loss)\n",
    "print(\"Test Accuracy:\", accuracy)"
   ]
  },
  {
   "cell_type": "markdown",
   "id": "e806142f-bdf1-4158-9ae9-43c0d914eb7e",
   "metadata": {},
   "source": [
    "# Plot Loss graph"
   ]
  },
  {
   "cell_type": "code",
   "execution_count": 40,
   "id": "c73865ba-47ba-4288-a79b-f3f62a927472",
   "metadata": {},
   "outputs": [
    {
     "data": {
      "image/png": "[encoded data removed]",
      "text/plain": [
       "<Figure size 1000x400 with 1 Axes>"
      ]
     },
     "metadata": {},
     "output_type": "display_data"
    }
   ],
   "source": [
    "history_df = pd.DataFrame(history.history)\n",
    "\n",
    "plt.figure(figsize=(10,4))\n",
    "plt.subplot(1,2,1)\n",
    "plt.plot(history_df['loss'], label='Training Loss')\n",
    "plt.plot(history_df['val_loss'], label='Validation Loss')\n",
    "plt.xlabel('Epochs')\n",
    "plt.ylabel('Loss')\n",
    "plt.title('Loss vs Epochs')\n",
    "plt.legend()\n",
    "plt.tight_layout()\n",
    "plt.show()"
   ]
  },
  {
   "cell_type": "code",
   "execution_count": 41,
   "id": "b7b9cd1f-78e4-42ab-af4d-3121ba2bb8ff",
   "metadata": {},
   "outputs": [
    {
     "data": {
      "image/png": "[encoded data removed]",
      "text/plain": [
       "<Figure size 640x480 with 1 Axes>"
      ]
     },
     "metadata": {},
     "output_type": "display_data"
    }
   ],
   "source": [
    "plt.subplot(1,2,2)\n",
    "plt.plot(history_df['accuracy'], label='Training Accuracy')\n",
    "plt.plot(history_df['val_accuracy'], label='Validation Accuracy')\n",
    "plt.xlabel('Epochs')\n",
    "plt.ylabel('Accuracy')\n",
    "plt.title('Accuracy vs Epochs')\n",
    "plt.legend()\n",
    "plt.tight_layout()\n",
    "plt.show()"
   ]
  },
  {
   "cell_type": "markdown",
   "id": "8b190f3d-6d9a-4d46-98d7-e331bec442a4",
   "metadata": {},
   "source": [
    "# Save model and preprocessing tools"
   ]
  },
  {
   "cell_type": "code",
   "execution_count": 42,
   "id": "1782da4b-2408-456b-9e02-3344f14d5e5c",
   "metadata": {},
   "outputs": [],
   "source": [
    "model.save('iris_ann_model.h5')\n",
    "with open('iris_scaler.pkl', 'wb') as f:\n",
    "    pickle.dump(scaler, f)\n",
    "with open('iris_encoder.pkl', 'wb') as f:\n",
    "    pickle.dump(encoder, f)"
   ]
  },
  {
   "cell_type": "code",
   "execution_count": 43,
   "id": "8febd945-d822-4b9a-93e7-4e4dfab24283",
   "metadata": {},
   "outputs": [
    {
     "name": "stdout",
     "output_type": "stream",
     "text": [
      "1/1 [==============================] - 0s 37ms/step - loss: 0.2287 - accuracy: 0.9667\n",
      "Test Loss: 0.22869227826595306\n",
      "Test Accuracy: 0.9666666388511658\n"
     ]
    }
   ],
   "source": [
    "# Evaluate model on test data (Score)\n",
    "loss, accuracy = model.evaluate(X_test, y_test)\n",
    "print(\"Test Loss:\", loss)\n",
    "print(\"Test Accuracy:\", accuracy)"
   ]
  },
  {
   "cell_type": "markdown",
   "id": "363a96af-33f9-406a-8487-22a6f614a3d3",
   "metadata": {},
   "source": [
    "# Take user input"
   ]
  },
  {
   "cell_type": "code",
   "execution_count": 44,
   "id": "44f7a1b5-0049-4cbb-a71d-d25dcde19735",
   "metadata": {},
   "outputs": [
    {
     "name": "stdout",
     "output_type": "stream",
     "text": [
      "Enter features to predict Iris flower type:\n"
     ]
    },
    {
     "name": "stdin",
     "output_type": "stream",
     "text": [
      "Sepal length (cm):  5.1\n",
      "Sepal width (cm):  3.5\n",
      "Petal length (cm):  1.4\n",
      "Petal width (cm):  0.2\n"
     ]
    }
   ],
   "source": [
    "print(\"Enter features to predict Iris flower type:\")\n",
    "sepal_length = float(input(\"Sepal length (cm): \"))\n",
    "sepal_width = float(input(\"Sepal width (cm): \"))\n",
    "petal_length = float(input(\"Petal length (cm): \"))\n",
    "petal_width = float(input(\"Petal width (cm): \"))\n",
    "\n",
    "user_input = np.array([[sepal_length, sepal_width, petal_length, petal_width]])"
   ]
  },
  {
   "cell_type": "code",
   "execution_count": 45,
   "id": "9adf7af8-0fc4-401d-8d12-45f662072a72",
   "metadata": {},
   "outputs": [
    {
     "name": "stdout",
     "output_type": "stream",
     "text": [
      "1/1 [==============================] - 0s 68ms/step\n",
      "The predicted Iris flower type is: setosa\n"
     ]
    }
   ],
   "source": [
    "# Step 12: Preprocess user input\n",
    "with open('iris_scaler.pkl', 'rb') as f:\n",
    "    scaler_loaded = pickle.load(f)\n",
    "with open('iris_encoder.pkl', 'rb') as f:\n",
    "    encoder_loaded = pickle.load(f)\n",
    "\n",
    "user_input_scaled = scaler_loaded.transform(user_input)\n",
    "\n",
    "# Step 13: Load saved model\n",
    "loaded_model = load_model('iris_ann_model.h5')\n",
    "\n",
    "# Step 14: Predict using the model\n",
    "prediction = loaded_model.predict(user_input_scaled)\n",
    "predicted_class = np.argmax(prediction, axis=1)\n",
    "\n",
    "# Step 15: Display output\n",
    "flower_name = iris.target_names[predicted_class][0]\n",
    "print(f\"The predicted Iris flower type is: {flower_name}\")"
   ]
  },
  {
   "cell_type": "code",
   "execution_count": null,
   "id": "f5557c59-5ede-4b26-b7ac-dbbae12c7619",
   "metadata": {},
   "outputs": [],
   "source": []
  }
 ],
 "metadata": {
  "kernelspec": {
   "display_name": "Python 3 (ipykernel)",
   "language": "python",
   "name": "python3"
  },
  "language_info": {
   "codemirror_mode": {
    "name": "ipython",
    "version": 3
   },
   "file_extension": ".py",
   "mimetype": "text/x-python",
   "name": "python",
   "nbconvert_exporter": "python",
   "pygments_lexer": "ipython3",
   "version": "3.10.18"
  }
 },
 "nbformat": 4,
 "nbformat_minor": 5
}
